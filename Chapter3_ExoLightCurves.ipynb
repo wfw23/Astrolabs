{
 "cells": [
  {
   "cell_type": "markdown",
   "metadata": {},
   "source": [
    "# <u>Chapter 3: Introduction to your Kepler science lightcurve</u>"
   ]
  },
  {
   "cell_type": "markdown",
   "metadata": {},
   "source": [
    "<div class=\"alert alert-block alert-info\">\n",
    "\n",
    "### This Notebook will give you the tools to:\n",
    "\n",
    "- open Kepler science lighcurves\n",
    "- understand data structure in fits files\n",
    "- understand basic features of data\n",
    "- start with fitting your dataset\n",
    "\n",
    "### What you should achieve:\n",
    "\n",
    "- plot and inspect data\n",
    "- identify transits\n",
    "- make a plan for modelling\n",
    "\n",
    "### What's next:\n",
    "after you have completed this notebook:\n",
    "\n",
    "- perform detailed modelling of your data\n",
    "- write up the summary of your modelling\n",
    "- collect your results for the comparison with other datasets\n",
    "    \n",
    "### Table of contents:\n",
    "    \n",
    "- [1. Reading Kepler data](#sec:keplerdata)\n",
    "- [2. Step by step guide to your data](#sec:dataguide)\n",
    "- [Summary](#sec:summary)"
   ]
  },
  {
   "cell_type": "markdown",
   "metadata": {},
   "source": [
    "<div class=\"alert alert-block alert-warning\">\n",
    "    \n",
    "<b>Make sure to edit the box below to match your assigned object number.</b>"
   ]
  },
  {
   "cell_type": "code",
   "execution_count": 46,
   "metadata": {},
   "outputs": [],
   "source": [
    "#Necessary imports\n",
    "from astropy.io import fits #used to open fits files in which data are stored\n",
    "import matplotlib.pyplot as plt #plotting\n",
    "import glob\n",
    "import numpy as np\n",
    "from scipy.optimize import curve_fit\n",
    "from scipy.signal import find_peaks\n",
    "#add here the source number assigned to you, '1' (Team Osiris) or '2' (Team Dagon)\n",
    "#Check Moodle to see which object has been assigned to you\n",
    "mykepler = '1' "
   ]
  },
  {
   "cell_type": "markdown",
   "metadata": {},
   "source": [
    "<a id=\"sec:keplerdata\"></a>\n",
    "## 1. Reading Kepler data"
   ]
  },
  {
   "cell_type": "markdown",
   "metadata": {},
   "source": [
    "First, we will have a look at the dataset, we have given you the fits dataset exactly as provided by Kepler, you can download additional datasets [on the Kepler archive](https://archive.stsci.edu/kepler/). We have though made the header anonymous so you cannot see which source you are working with. "
   ]
  },
  {
   "cell_type": "code",
   "execution_count": 47,
   "metadata": {},
   "outputs": [],
   "source": [
    "#Fits files are open like this:\n",
    "lc = fits.open('Data/Object%slc/kplr%s_1.fits'%(mykepler, mykepler))"
   ]
  },
  {
   "cell_type": "markdown",
   "metadata": {},
   "source": [
    "Fits files are common in astrophysics, they have different extensions, which can be images or tables. The information discribing the data is stored in the header."
   ]
  },
  {
   "cell_type": "code",
   "execution_count": 48,
   "metadata": {},
   "outputs": [
    {
     "data": {
      "text/plain": [
       "[<astropy.io.fits.hdu.image.PrimaryHDU object at 0x7fd58efb64c0>, <astropy.io.fits.hdu.table.BinTableHDU object at 0x7fd58efc9df0>, <astropy.io.fits.hdu.image.ImageHDU object at 0x7fd58efb9550>]"
      ]
     },
     "execution_count": 48,
     "metadata": {},
     "output_type": "execute_result"
    }
   ],
   "source": [
    "lc"
   ]
  },
  {
   "cell_type": "code",
   "execution_count": 49,
   "metadata": {},
   "outputs": [
    {
     "data": {
      "text/plain": [
       "SIMPLE  =                    T / conforms to FITS standards                     \n",
       "BITPIX  =                    8 / array data type                                \n",
       "NAXIS   =                    0 / number of array dimensions                     \n",
       "EXTEND  =                    T / file contains extensions                       \n",
       "NEXTEND =                    2 / number of standard extensions                  \n",
       "EXTNAME = 'PRIMARY '           / name of extension                              \n",
       "EXTVER  =                    1 / extension version number (not format version)  \n",
       "ORIGIN  = 'NASA/Ames'          / institution responsible for creating this file \n",
       "DATE    = '2015-09-09'         / file creation date.                            \n",
       "CREATOR = '826630 FluxExporter2PipelineModule' / pipeline job and program used t\n",
       "PROCVER = 'svn+ssh://murzim/repo/soc/tags/release/9.3.22 r60269' / SW version   \n",
       "FILEVER = '6.1     '           / file format version                            \n",
       "TIMVERSN= 'OGIP/93-003'        / OGIP memo number for file format               \n",
       "TELESCOP= 'Kepler  '           / telescope                                      \n",
       "INSTRUME= 'Kepler Photometer'  / detector type                                  \n",
       "OBJECT  = 'None of your business' / string version of target id                 \n",
       "KEPLERID= 'None of your business' / unique Kepler target identifier             \n",
       "CHANNEL =                   76 / CCD channel                                    \n",
       "SKYGROUP=                   72 / roll-independent location of channel           \n",
       "MODULE  =                   22 / CCD module                                     \n",
       "OUTPUT  =                    4 / CCD output                                     \n",
       "QUARTER =                    3 / Observing quarter                              \n",
       "SEASON  =                    1 / mission season during which data was collected \n",
       "DATA_REL=                   25 / data release version number                    \n",
       "OBSMODE = 'long cadence'       / observing mode                                 \n",
       "MISSION = 'Kepler  '           / Mission name                                   \n",
       "TTABLEID=                   26 / target table id                                \n",
       "RADESYS = 'ICRS    '           / reference frame of celestial coordinates       \n",
       "RA_OBJ  = 'None of your business' / [deg] right ascension                       \n",
       "DEC_OBJ = 'None of your business' / [deg] declination                           \n",
       "EQUINOX =               2000.0 / equinox of celestial coordinate system         \n",
       "PMRA    =               0.0056 / [arcsec/yr] RA proper motion                   \n",
       "PMDEC   =              -0.0125 / [arcsec/yr] Dec proper motion                  \n",
       "PMTOTAL =               0.0137 / [arcsec/yr] total proper motion                \n",
       "PARALLAX=                      / [arcsec] parallax                              \n",
       "GLON    = 'None of your business' / [deg] galactic longitude                    \n",
       "GLAT    = 'None of your business' / [deg] galactic latitude                     \n",
       "GMAG    =               14.247 / [mag] SDSS g band magnitude                    \n",
       "RMAG    =               13.731 / [mag] SDSS r band magnitude                    \n",
       "IMAG    =               13.613 / [mag] SDSS i band magnitude                    \n",
       "ZMAG    =               13.581 / [mag] SDSS z band magnitude                    \n",
       "D51MAG  =               14.043 / [mag] D51 magnitude,                           \n",
       "JMAG    =               12.710 / [mag] J band magnitude from 2MASS              \n",
       "HMAG    =               12.391 / [mag] H band magnitude from 2MASS              \n",
       "KMAG    =               12.336 / [mag] K band magnitude from 2MASS              \n",
       "KEPMAG  =               13.803 / [mag] Kepler magnitude (Kp)                    \n",
       "GRCOLOR =                0.516 / [mag] (g-r) color, SDSS bands                  \n",
       "JKCOLOR =                0.374 / [mag] (J-K) color, 2MASS bands                 \n",
       "GKCOLOR =                1.911 / [mag] (g-K) color, SDSS g - 2MASS K            \n",
       "TEFF    =                 5779 / [K] Effective temperature                      \n",
       "LOGG    =                4.491 / [cm/s2] log10 surface gravity                  \n",
       "FEH     =                0.120 / [log10([Fe/H])]  metallicity                   \n",
       "EBMINUSV=                0.073 / [mag] E(B-V) reddening                         \n",
       "AV      =                0.227 / [mag] A_v extinction                           \n",
       "RADIUS  =                0.956 / [solar radii] stellar radius                   \n",
       "TMINDEX = 'None of your business' / unique 2MASS catalog ID                     \n",
       "SCPID   =                      / unique SCP processing ID                       \n",
       "CHECKSUM= 'NEF4QDD3NDD3NDD3'   / HDU checksum updated 2019-09-17T17:12:24       \n",
       "DATASUM = '0       '           / data unit checksum updated 2019-09-17T17:12:24 "
      ]
     },
     "execution_count": 49,
     "metadata": {},
     "output_type": "execute_result"
    }
   ],
   "source": [
    "#The header for the first extension can be accesses like this:\n",
    "lc[0].header\n",
    "#It contains basic information about the object (some of those removed here)"
   ]
  },
  {
   "cell_type": "markdown",
   "metadata": {},
   "source": [
    "**You will see some of the header keywords to read 'None of your business', this is because we have anonymized the dataset for you. "
   ]
  },
  {
   "cell_type": "code",
   "execution_count": 50,
   "metadata": {},
   "outputs": [
    {
     "data": {
      "text/plain": [
       "<matplotlib.image.AxesImage at 0x7fd58daaf100>"
      ]
     },
     "execution_count": 50,
     "metadata": {},
     "output_type": "execute_result"
    },
    {
     "data": {
      "image/png": "[encoded data removed]",
      "text/plain": [
       "<Figure size 432x288 with 1 Axes>"
      ]
     },
     "metadata": {
      "needs_background": "light"
     },
     "output_type": "display_data"
    }
   ],
   "source": [
    "#The last extension holds a small image of the source:\n",
    "plt.imshow(lc[2].data)"
   ]
  },
  {
   "cell_type": "code",
   "execution_count": 51,
   "metadata": {},
   "outputs": [
    {
     "data": {
      "text/plain": [
       "XTENSION= 'IMAGE   '           / marks the beginning of a new HDU               \n",
       "BITPIX  =                   32 / array data type                                \n",
       "NAXIS   =                    2 / number of array dimensions                     \n",
       "NAXIS1  =                    6 / length of first array dimension                \n",
       "NAXIS2  =                    6 / length of second array dimension               \n",
       "PCOUNT  =                    0 / group parameter count (not used)               \n",
       "GCOUNT  =                    1 / group count (not used)                         \n",
       "INHERIT =                    T / inherit the primary header                     \n",
       "EXTNAME = 'APERTURE'           / name of extension                              \n",
       "EXTVER  =                    1 / extension version number (not format version)  \n",
       "TELESCOP= 'Kepler  '           / telescope                                      \n",
       "INSTRUME= 'Kepler Photometer'  / detector type                                  \n",
       "OBJECT  = 'None of your business' / string version of target id                 \n",
       "KEPLERID= 'None of your business' / unique Kepler target identifier             \n",
       "RADESYS = 'ICRS    '           / reference frame of celestial coordinates       \n",
       "RA_OBJ  = 'None of your business' / [deg] right ascension                       \n",
       "DEC_OBJ = 'None of your business' / [deg] declination                           \n",
       "EQUINOX =               2000.0 / equinox of celestial coordinate system         \n",
       "WCSAXES =                    2 / number of WCS axes                             \n",
       "CTYPE1  = 'RA---TAN'           / right ascension coordinate type                \n",
       "CTYPE2  = 'DEC--TAN'           / declination coordinate type                    \n",
       "CRPIX1  =   3.6309199370348324 / [pixel] reference pixel along image axis 1     \n",
       "CRPIX2  =    3.517625435632965 / [pixel] reference pixel along image axis 2     \n",
       "CRVAL1  =   285.57396900000003 / [deg] right ascension at reference pixel       \n",
       "CRVAL2  =              38.4009 / [deg] declination at reference pixel           \n",
       "CUNIT1  = 'deg     '           / physical unit in column dimension              \n",
       "CUNIT2  = 'deg     '           / physical unit in row dimension                 \n",
       "CDELT1  =   -0.001099111746806 / [deg] pixel scale in RA dimension              \n",
       "CDELT2  = 0.001099111746805884 / [deg] pixel scale in Dec dimension             \n",
       "PC1_1   =  -0.5904154849905418 / linear transformation element cos(th)          \n",
       "PC1_2   =  -0.8008780791745466 / linear transformation element -sin(th)         \n",
       "PC2_1   =  -0.8090792837129865 / linear transformation element sin(th)          \n",
       "PC2_2   =   0.5962345946357837 / linear transformation element cos(th)          \n",
       "WCSNAMEP= 'PHYSICAL'           / name of world coordinate system alternate P    \n",
       "WCSAXESP=                    2 / number of WCS physical axes                    \n",
       "CTYPE1P = 'RAWX    '           / physical WCS axis 1 type CCD col               \n",
       "CUNIT1P = 'PIXEL   '           / physical WCS axis 1 unit                       \n",
       "CRPIX1P =                    1 / reference CCD column                           \n",
       "CRVAL1P =                 1097 / value at reference CCD column                  \n",
       "CDELT1P =                  1.0 / physical WCS axis 1 step                       \n",
       "CTYPE2P = 'RAWY    '           / physical WCS axis 2 type CCD row               \n",
       "CUNIT2P = 'PIXEL   '           / physical WCS axis 2 units                      \n",
       "CRPIX2P =                    1 / reference CCD row                              \n",
       "CRVAL2P =                  271 / value at reference CCD row                     \n",
       "CDELT2P =                  1.0 / physical WCS axis 2 step                       \n",
       "NPIXSAP =                    4 / Number of pixels in optimal aperture           \n",
       "NPIXMISS=                    0 / Number of op. aperture pixels not collected    \n",
       "CHECKSUM= 'ZQDffNBZZNBffNBZ'   / HDU checksum updated 2019-09-17T17:12:24       \n",
       "DATASUM = '40      '           / data unit checksum updated 2019-09-17T17:12:24 "
      ]
     },
     "execution_count": 51,
     "metadata": {},
     "output_type": "execute_result"
    }
   ],
   "source": [
    "#It also has a header that gives more information\n",
    "lc[2].header"
   ]
  },
  {
   "cell_type": "code",
   "execution_count": 52,
   "metadata": {},
   "outputs": [
    {
     "data": {
      "text/plain": [
       "<astropy.io.fits.hdu.table.BinTableHDU at 0x7fd58efc9df0>"
      ]
     },
     "execution_count": 52,
     "metadata": {},
     "output_type": "execute_result"
    }
   ],
   "source": [
    "#lets have a look at the second extension\n",
    "lc[1]\n",
    "#This is a table extension"
   ]
  },
  {
   "cell_type": "code",
   "execution_count": 53,
   "metadata": {},
   "outputs": [
    {
     "data": {
      "text/plain": [
       "XTENSION= 'BINTABLE'           / marks the beginning of a new HDU               \n",
       "BITPIX  =                    8 / array data type                                \n",
       "NAXIS   =                    2 / number of array dimensions                     \n",
       "NAXIS1  =                  100 / length of first array dimension                \n",
       "NAXIS2  =                 4370 / length of second array dimension               \n",
       "PCOUNT  =                    0 / group parameter count (not used)               \n",
       "GCOUNT  =                    1 / group count (not used)                         \n",
       "TFIELDS =                   20 / number of table fields                         \n",
       "TTYPE1  = 'TIME    '           / column title: data time stamps                 \n",
       "TFORM1  = 'D       '           / column format: 64-bit floating point           \n",
       "TUNIT1  = 'BJD - 2454833'      / column units: barycenter corrected JD          \n",
       "TDISP1  = 'D14.7   '           / column display format                          \n",
       "TTYPE2  = 'TIMECORR'           / column title: barycenter - timeslice correction\n",
       "TFORM2  = 'E       '           / column format: 32-bit floating point           \n",
       "TUNIT2  = 'd       '           / column units: day                              \n",
       "TDISP2  = 'E13.6   '           / column display format                          \n",
       "TTYPE3  = 'CADENCENO'          / column title: unique cadence number            \n",
       "TFORM3  = 'J       '           / column format: signed 32-bit integer           \n",
       "TDISP3  = 'I10     '           / column display format                          \n",
       "TTYPE4  = 'SAP_FLUX'           / column title: aperture photometry flux         \n",
       "TFORM4  = 'E       '           / column format: 32-bit floating point           \n",
       "TUNIT4  = 'e-/s    '           / column units: electrons per second             \n",
       "TDISP4  = 'E14.7   '           / column display format                          \n",
       "TTYPE5  = 'SAP_FLUX_ERR'       / column title: aperture phot. flux error        \n",
       "TFORM5  = 'E       '           / column format: 32-bit floating point           \n",
       "TUNIT5  = 'e-/s    '           / column units: electrons per second (1-sigma)   \n",
       "TDISP5  = 'E14.7   '           / column display format                          \n",
       "TTYPE6  = 'SAP_BKG '           / column title: aperture phot. background flux   \n",
       "TFORM6  = 'E       '           / column format: 32-bit floating point           \n",
       "TUNIT6  = 'e-/s    '           / column units: electrons per second             \n",
       "TDISP6  = 'E14.7   '           / column display format                          \n",
       "TTYPE7  = 'SAP_BKG_ERR'        / column title: ap. phot. background flux error  \n",
       "TFORM7  = 'E       '           / column format: 32-bit floating point           \n",
       "TUNIT7  = 'e-/s    '           / column units: electrons per second (1-sigma)   \n",
       "TDISP7  = 'E14.7   '           / column display format                          \n",
       "TTYPE8  = 'PDCSAP_FLUX'        / column title: aperture phot. PDC flux          \n",
       "TFORM8  = 'E       '           / column format: 32-bit floating point           \n",
       "TUNIT8  = 'e-/s    '           / column units: electrons per second             \n",
       "TDISP8  = 'E14.7   '           / column display format                          \n",
       "TTYPE9  = 'PDCSAP_FLUX_ERR'    / column title: ap. phot. PDC flux error         \n",
       "TFORM9  = 'E       '           / column format: 32-bit floating point           \n",
       "TUNIT9  = 'e-/s    '           / column units: electrons per second (1-sigma)   \n",
       "TDISP9  = 'E14.7   '           / column display format                          \n",
       "TTYPE10 = 'SAP_QUALITY'        / column title: aperture photometry quality flag \n",
       "TFORM10 = 'J       '           / column format: signed 32-bit integer           \n",
       "TDISP10 = 'B16.16  '           / column display format                          \n",
       "TTYPE11 = 'PSF_CENTR1'         / column title: PSF-fitted column centroid       \n",
       "TFORM11 = 'D       '           / column format: 64-bit floating point           \n",
       "TUNIT11 = 'pixel   '           / column units: pixel                            \n",
       "TDISP11 = 'F10.5   '           / column display format                          \n",
       "TTYPE12 = 'PSF_CENTR1_ERR'     / column title: PSF-fitted column error          \n",
       "TFORM12 = 'E       '           / column format: 32-bit floating point           \n",
       "TUNIT12 = 'pixel   '           / column units: pixel (1-sigma)                  \n",
       "TDISP12 = 'E14.7   '           / column display format                          \n",
       "TTYPE13 = 'PSF_CENTR2'         / column title: PSF-fitted row centroid          \n",
       "TFORM13 = 'D       '           / column format: 64-bit floating point           \n",
       "TUNIT13 = 'pixel   '           / column units: pixel                            \n",
       "TDISP13 = 'F10.5   '           / column display format                          \n",
       "TTYPE14 = 'PSF_CENTR2_ERR'     / column title: PSF-fitted row error             \n",
       "TFORM14 = 'E       '           / column format: 32-bit floating point           \n",
       "TUNIT14 = 'pixel   '           / column units: pixel (1-sigma)                  \n",
       "TDISP14 = 'E14.7   '           / column display format                          \n",
       "TTYPE15 = 'MOM_CENTR1'         / column title: moment-derived column centroid   \n",
       "TFORM15 = 'D       '           / column format: 64-bit floating point           \n",
       "TUNIT15 = 'pixel   '           / column units: pixel                            \n",
       "TDISP15 = 'F10.5   '           / column display format                          \n",
       "TTYPE16 = 'MOM_CENTR1_ERR'     / column title: moment-derived column error      \n",
       "TFORM16 = 'E       '           / column format: 32-bit floating point           \n",
       "TUNIT16 = 'pixel   '           / column units: pixel (1-sigma)                  \n",
       "TDISP16 = 'E14.7   '           / column display format                          \n",
       "TTYPE17 = 'MOM_CENTR2'         / column title: moment-derived row centroid      \n",
       "TFORM17 = 'D       '           / column format: 64-bit floating point           \n",
       "TUNIT17 = 'pixel   '           / column units: pixel                            \n",
       "TDISP17 = 'F10.5   '           / column display format                          \n",
       "TTYPE18 = 'MOM_CENTR2_ERR'     / column title: moment-derived row error         \n",
       "TFORM18 = 'E       '           / column format: 32-bit floating point           \n",
       "TUNIT18 = 'pixel   '           / column units: pixel (1-sigma)                  \n",
       "TDISP18 = 'E14.7   '           / column display format                          \n",
       "TTYPE19 = 'POS_CORR1'          / column title: column position correction       \n",
       "TFORM19 = 'E       '           / column format: 32-bit floating point           \n",
       "TUNIT19 = 'pixels  '           / column units: pixel                            \n",
       "TDISP19 = 'E14.7   '           / column display format                          \n",
       "TTYPE20 = 'POS_CORR2'          / column title: row position correction          \n",
       "TFORM20 = 'E       '           / column format: 32-bit floating point           \n",
       "TUNIT20 = 'pixels  '           / column units: pixel                            \n",
       "TDISP20 = 'E14.7   '           / column display format                          \n",
       "INHERIT =                    T / inherit the primary header                     \n",
       "EXTNAME = 'LIGHTCURVE'         / name of extension                              \n",
       "EXTVER  =                    1 / extension version number (not format version)  \n",
       "TELESCOP= 'Kepler  '           / telescope                                      \n",
       "INSTRUME= 'Kepler Photometer'  / detector type                                  \n",
       "OBJECT  = 'None of your business' / string version of target id                 \n",
       "KEPLERID= 'None of your business' / unique Kepler target identifier             \n",
       "RADESYS = 'ICRS    '           / reference frame of celestial coordinates       \n",
       "RA_OBJ  = 'None of your business' / [deg] right ascension                       \n",
       "DEC_OBJ = 'None of your business' / [deg] declination                           \n",
       "EQUINOX =               2000.0 / equinox of celestial coordinate system         \n",
       "EXPOSURE=          82.20427266 / [d] time on source                             \n",
       "TIMEREF = 'SOLARSYSTEM'        / barycentric correction applied to times        \n",
       "TASSIGN = 'SPACECRAFT'         / where time is assigned                         \n",
       "TIMESYS = 'TDB     '           / time system is barycentric JD                  \n",
       "BJDREFI =              2454833 / integer part of BJD reference date             \n",
       "BJDREFF =           0.00000000 / fraction of the day in BJD reference date      \n",
       "TIMEUNIT= 'd       '           / time unit for TIME, TSTART and TSTOP           \n",
       "TELAPSE =          89.29084789 / [d] TSTOP - TSTART                             \n",
       "LIVETIME=          82.20427266 / [d] TELAPSE multiplied by DEADC                \n",
       "TSTART  =         260.21442006 / observation start time in BJD-BJDREF           \n",
       "TSTOP   =         349.50526794 / observation stop time in BJD-BJDREF            \n",
       "LC_START=       55092.72220972 / mid point of first cadence in MJD              \n",
       "LC_END  =       55181.99659822 / mid point of last cadence in MJD               \n",
       "DEADC   =           0.92063492 / deadtime correction                            \n",
       "TIMEPIXR=                  0.5 / bin time beginning=0 middle=0.5 end=1          \n",
       "TIERRELA=             5.78E-07 / [d] relative time error                        \n",
       "TIERABSO=                      / [d] absolute time error                        \n",
       "INT_TIME=       6.019802903270 / [s] photon accumulation time per frame         \n",
       "READTIME=       0.518948526144 / [s] readout time per frame                     \n",
       "FRAMETIM=       6.538751429414 / [s] frame time (INT_TIME + READTIME)           \n",
       "NUM_FRM =                  270 / number of frames per time stamp                \n",
       "TIMEDEL =     0.02043359821692 / [d] time resolution of data                    \n",
       "DATE-OBS= '2009-09-18T17:05:16.190Z' / TSTART as UTC calendar date              \n",
       "DATE-END= '2009-12-17T00:09:48.815Z' / TSTOP as UTC calendar date               \n",
       "BACKAPP =                    T / background is subtracted                       \n",
       "DEADAPP =                    T / deadtime applied                               \n",
       "VIGNAPP =                    T / vignetting or collimator correction applied    \n",
       "GAIN    =               105.23 / [electrons/count] channel gain                 \n",
       "READNOIS=            84.594397 / [electrons] read noise                         \n",
       "NREADOUT=                  270 / number of read per cadence                     \n",
       "TIMSLICE=                    3 / time-slice readout sequence section            \n",
       "MEANBLCK=                  733 / [count] FSW mean black level                   \n",
       "LCFXDOFF=               419400 / long cadence fixed offset                      \n",
       "SCFXDOFF=               219400 / short cadence fixed offset                     \n",
       "CDPP3_0 =   101.72696685791016 / [ppm] RMS CDPP on 3.0-hr time scales           \n",
       "CDPP6_0 =     125.456787109375 / [ppm] RMS CDPP on 6.0-hr time scales           \n",
       "CDPP12_0=   110.96907806396484 / [ppm] RMS CDPP on 12.0-hr time scales          \n",
       "CROWDSAP=               0.9992 / Ratio of target flux to total flux in op. ap.  \n",
       "FLFRCSAP=               0.7252 / Frac. of target flux w/in the op. aperture     \n",
       "NSPSDDET=                    0 / Number of SPSDs detected                       \n",
       "NSPSDCOR=                    0 / Number of SPSDs corrected                      \n",
       "PDCVAR  =   1.8069709539413452 / Target variability                             \n",
       "PDCMETHD= 'multiScaleMap'      / PDC algorithm used for target                  \n",
       "NUMBAND =                    3 / Number of scale bands                          \n",
       "FITTYPE1= 'robust  '           / Fit type used for band 1                       \n",
       "PR_GOOD1=                  0.0 / Prior goodness for band 1                      \n",
       "PR_WGHT1=                  0.0 / Prior weight for band 1                        \n",
       "FITTYPE2= 'prior   '           / Fit type used for band 2                       \n",
       "PR_GOOD2=  0.07292769849300385 / Prior goodness for band 2                      \n",
       "PR_WGHT2=   11.492071151733398 / Prior weight for band 2                        \n",
       "FITTYPE3= 'prior   '           / Fit type used for band 3                       \n",
       "PR_GOOD3=    0.516323983669281 / Prior goodness for band 3                      \n",
       "PR_WGHT3=    81.36321258544922 / Prior weight for band 3                        \n",
       "PDC_TOT =   0.7119521498680115 / PDC total goodness metric for target           \n",
       "PDC_TOTP=   1.5745707750320435 / PDC_TOT percentile compared to mod/out         \n",
       "PDC_COR =   0.9627798199653625 / PDC correlation goodness metric for target     \n",
       "PDC_CORP=    9.833599090576172 / PDC_COR percentile compared to mod/out         \n",
       "PDC_VAR =   0.9373531937599182 / PDC variability goodness metric for target     \n",
       "PDC_VARP=      7.6667160987854 / PDC_VAR percentile compared to mod/out         \n",
       "PDC_NOI =   0.7827537655830383 / PDC noise goodness metric for target           \n",
       "PDC_NOIP=    8.062134742736816 / PDC_NOI percentile compared to mod/out         \n",
       "PDC_EPT =                  1.0 / PDC earth point goodness metric for target     \n",
       "PDC_EPTP=    54.63613510131836 / PDC_EPT percentile compared to mod/out         \n",
       "CHECKSUM= 'hhO8jhM6hhM6hhM6'   / HDU checksum updated 2019-09-17T17:12:24       \n",
       "DATASUM = '3847933012'         / data unit checksum updated 2019-09-17T17:12:24 "
      ]
     },
     "execution_count": 53,
     "metadata": {},
     "output_type": "execute_result"
    }
   ],
   "source": [
    "#Here the beginning has a description of columns in the table, including the units\n",
    "lc[1].header"
   ]
  },
  {
   "cell_type": "markdown",
   "metadata": {},
   "source": [
    "This is our lightcirve extension. You will notice two lighcurves here. \"SAP_FLUX\" is the Simple Aperture Photometry, whereas \"PDCSAP_FLUX\" is Pre-search Data Condictioned, i.e. has had processing applied for calibration. "
   ]
  },
  {
   "cell_type": "code",
   "execution_count": 54,
   "metadata": {},
   "outputs": [
    {
     "data": {
      "text/plain": [
       "[<matplotlib.lines.Line2D at 0x7fd58e657190>]"
      ]
     },
     "execution_count": 54,
     "metadata": {},
     "output_type": "execute_result"
    },
    {
     "data": {
      "image/png": "[encoded data removed]",
      "text/plain": [
       "<Figure size 432x288 with 1 Axes>"
      ]
     },
     "metadata": {
      "needs_background": "light"
     },
     "output_type": "display_data"
    }
   ],
   "source": [
    "#Lets plot the lightcurve, you can plot the time and flux:\n",
    "plt.plot(lc[1].data['TIME'], lc[1].data['PDCSAP_FLUX'], ls='None', marker='o')\n",
    "#This plots the barycentre time and flux in e/s"
   ]
  },
  {
   "cell_type": "code",
   "execution_count": 55,
   "metadata": {},
   "outputs": [
    {
     "data": {
      "text/plain": [
       "<ErrorbarContainer object of 3 artists>"
      ]
     },
     "execution_count": 55,
     "metadata": {},
     "output_type": "execute_result"
    },
    {
     "data": {
      "image/png": "[encoded data removed]",
      "text/plain": [
       "<Figure size 432x288 with 1 Axes>"
      ]
     },
     "metadata": {
      "needs_background": "light"
     },
     "output_type": "display_data"
    }
   ],
   "source": [
    "#Measurements errors are also included, you can plot them as follows\n",
    "plt.errorbar(lc[1].data['TIME'], lc[1].data['PDCSAP_FLUX'], lc[1].data['PDCSAP_FLUX_ERR'], ls='None', marker='o')\n",
    "#We'll need to zoom in to see them:"
   ]
  },
  {
   "cell_type": "markdown",
   "metadata": {},
   "source": [
    "<a id=\"sec:dataguide\"></a>\n",
    "## 2. Step by step guide to your data\n",
    "\n",
    "#### Do not panic (or maybe do), what you have seen so far is only a small subset of the data you will be working with."
   ]
  },
  {
   "cell_type": "markdown",
   "metadata": {},
   "source": [
    "<div class=\"alert alert-block alert-success\">\n",
    "    \n",
    "### Your turn: First look at data - signal-to-noise\n",
    "\n",
    "- calculate the signal to noise of your lightcurve. Compare it to the signal-to-noise you required to detect a trsnait in Chapter 1. You can also compare it to some of the aperture photometry in Chapter 2."
   ]
  },
  {
   "cell_type": "code",
   "execution_count": 56,
   "metadata": {},
   "outputs": [
    {
     "name": "stdout",
     "output_type": "stream",
     "text": [
      "5684.182\n"
     ]
    }
   ],
   "source": [
    "sn = np.nanmean(lc[1].data['PDCSAP_FLUX']/lc[1].data['PDCSAP_FLUX_ERR'])\n",
    "print (sn)"
   ]
  },
  {
   "cell_type": "code",
   "execution_count": 57,
   "metadata": {},
   "outputs": [
    {
     "name": "stdout",
     "output_type": "stream",
     "text": [
      "5684.182\n"
     ]
    }
   ],
   "source": [
    "sn_alt= np.nanmedian(lc[1].data['PDCSAP_FLUX']/lc[1].data['PDCSAP_FLUX_ERR'])\n",
    "print(sn)"
   ]
  },
  {
   "cell_type": "markdown",
   "metadata": {},
   "source": [
    "<div class=\"alert alert-block alert-success\">\n",
    "    \n",
    "### Your turn: First look at data - What does your lightcurve look like?\n",
    "\n",
    "Make notes about your lightcurve: you will be fitting this for planets, do you see any complications?"
   ]
  },
  {
   "cell_type": "code",
   "execution_count": 58,
   "metadata": {},
   "outputs": [
    {
     "data": {
      "text/plain": [
       "(260.0, 350.0)"
      ]
     },
     "execution_count": 58,
     "metadata": {},
     "output_type": "execute_result"
    },
    {
     "data": {
      "image/png": "[encoded data removed]",
      "text/plain": [
       "<Figure size 432x288 with 1 Axes>"
      ]
     },
     "metadata": {
      "needs_background": "light"
     },
     "output_type": "display_data"
    }
   ],
   "source": [
    "plt.errorbar(lc[1].data['TIME'], lc[1].data['PDCSAP_FLUX'], lc[1].data['PDCSAP_FLUX_ERR'], ls='None', marker='o')\n",
    "plt.ylim(41300,41700)\n",
    "plt.xlim(260,350)"
   ]
  },
  {
   "cell_type": "code",
   "execution_count": 59,
   "metadata": {},
   "outputs": [
    {
     "data": {
      "text/plain": [
       "(260.0, 350.0)"
      ]
     },
     "execution_count": 59,
     "metadata": {},
     "output_type": "execute_result"
    },
    {
     "data": {
      "image/png": "[encoded data removed]",
      "text/plain": [
       "<Figure size 432x288 with 1 Axes>"
      ]
     },
     "metadata": {
      "needs_background": "light"
     },
     "output_type": "display_data"
    }
   ],
   "source": [
    "plt.errorbar(lc[1].data['TIME'], lc[1].data['PDCSAP_FLUX'], lc[1].data['PDCSAP_FLUX_ERR'], ls='None', marker='o')\n",
    "plt.ylim(41200,41500)\n",
    "plt.xlim(260,350)"
   ]
  },
  {
   "cell_type": "code",
   "execution_count": 60,
   "metadata": {},
   "outputs": [
    {
     "data": {
      "text/plain": [
       "(260.0, 350.0)"
      ]
     },
     "execution_count": 60,
     "metadata": {},
     "output_type": "execute_result"
    },
    {
     "data": {
      "image/png": "[encoded data removed]",
      "text/plain": [
       "<Figure size 432x288 with 1 Axes>"
      ]
     },
     "metadata": {
      "needs_background": "light"
     },
     "output_type": "display_data"
    }
   ],
   "source": [
    "plt.errorbar(lc[1].data['TIME'], lc[1].data['PDCSAP_FLUX'], lc[1].data['PDCSAP_FLUX_ERR'], ls='None', marker='o')\n",
    "plt.ylim(41500,41700)\n",
    "plt.xlim(260,350)"
   ]
  },
  {
   "cell_type": "code",
   "execution_count": 61,
   "metadata": {},
   "outputs": [
    {
     "data": {
      "text/plain": [
       "(310.0, 320.0)"
      ]
     },
     "execution_count": 61,
     "metadata": {},
     "output_type": "execute_result"
    },
    {
     "data": {
      "image/png": "[encoded data removed]",
      "text/plain": [
       "<Figure size 432x288 with 1 Axes>"
      ]
     },
     "metadata": {
      "needs_background": "light"
     },
     "output_type": "display_data"
    }
   ],
   "source": [
    "plt.errorbar(lc[1].data['TIME'], lc[1].data['PDCSAP_FLUX'], lc[1].data['PDCSAP_FLUX_ERR'], ls='None', marker='o')\n",
    "plt.ylim(41500,41700)\n",
    "plt.xlim(310,320)"
   ]
  },
  {
   "cell_type": "markdown",
   "metadata": {},
   "source": [
    "no obvious normalisation/constant level for star flux,\n",
    "some transits very 'thin'"
   ]
  },
  {
   "cell_type": "markdown",
   "metadata": {},
   "source": [
    "<div class=\"alert alert-block alert-success\">\n",
    "    \n",
    "### Your turn: Preparing for fitting:\n",
    "\n",
    "Locate all transits and make a plot for each"
   ]
  },
  {
   "cell_type": "code",
   "execution_count": null,
   "metadata": {},
   "outputs": [],
   "source": []
  },
  {
   "cell_type": "code",
   "execution_count": 62,
   "metadata": {},
   "outputs": [
    {
     "data": {
      "text/plain": [
       "['Data/Object1lc/kplr1_17.fits',\n",
       " 'Data/Object1lc/kplr1_15.fits',\n",
       " 'Data/Object1lc/kplr1_16.fits',\n",
       " 'Data/Object1lc/kplr1_14.fits',\n",
       " 'Data/Object1lc/kplr1_13.fits',\n",
       " 'Data/Object1lc/kplr1_12.fits',\n",
       " 'Data/Object1lc/kplr1_11.fits',\n",
       " 'Data/Object1lc/kplr1_10.fits',\n",
       " 'Data/Object1lc/kplr1_9.fits',\n",
       " 'Data/Object1lc/kplr1_8.fits',\n",
       " 'Data/Object1lc/kplr1_7.fits',\n",
       " 'Data/Object1lc/kplr1_6.fits',\n",
       " 'Data/Object1lc/kplr1_5.fits',\n",
       " 'Data/Object1lc/kplr1_4.fits',\n",
       " 'Data/Object1lc/kplr1_3.fits',\n",
       " 'Data/Object1lc/kplr1_2.fits',\n",
       " 'Data/Object1lc/kplr1_1.fits']"
      ]
     },
     "execution_count": 62,
     "metadata": {},
     "output_type": "execute_result"
    }
   ],
   "source": [
    "## So far, we have only looked at a subset of the data, the full dataset is stored in the Data folder.\n",
    "glob.glob('Data/Object%slc/kplr*.fits'%(mykepler)) #Lists all your lightcurve files"
   ]
  },
  {
   "cell_type": "markdown",
   "metadata": {},
   "source": [
    "<div class=\"alert alert-block alert-success\">\n",
    "\n",
    "### Your turn: plot the full lightcurve"
   ]
  },
  {
   "cell_type": "code",
   "execution_count": 63,
   "metadata": {},
   "outputs": [
    {
     "data": {
      "image/png": "[encoded data removed]",
      "text/plain": [
       "<Figure size 432x288 with 1 Axes>"
      ]
     },
     "metadata": {
      "needs_background": "light"
     },
     "output_type": "display_data"
    }
   ],
   "source": [
    "#THis works....\n",
    "for lcfile in glob.glob('Data/Object%slc/kplr*.fits' %(mykepler)):\n",
    "    tmp = fits.open(lcfile)\n",
    "    tmptime = (tmp[1].data['TIME'])\n",
    "    tmpflux = (tmp[1].data['PDCSAP_FLUX'])\n",
    "    tmperror = (tmp[1].data['PDCSAP_FLUX_ERR'])\n",
    "    plt.plot(tmptime, tmpflux, c='k')"
   ]
  },
  {
   "cell_type": "markdown",
   "metadata": {},
   "source": [
    "<div class=\"alert alert-block alert-success\">\n",
    "\n",
    "### Your turn: Planning for modelling - Make a plan\n",
    "\n",
    "- Make a plan for modelling your lightcurve\n",
    "- Which steps will you need to take? In what order? What tools will you need?\n",
    "- It might be good to combine all your data into a single file."
   ]
  },
  {
   "cell_type": "code",
   "execution_count": 64,
   "metadata": {},
   "outputs": [
    {
     "name": "stdout",
     "output_type": "stream",
     "text": [
      "4134\n"
     ]
    }
   ],
   "source": [
    "from scipy.signal import savgol_filter\n",
    "\n",
    "lc1_flux = lc[1].data['PDCSAP_FLUX'][~np.isnan(lc[1].data['PDCSAP_FLUX'])]\n",
    "interp_savgol = savgol_filter( lc1_flux, window_length=201,polyorder=3)\n",
    "print (len( lc1_flux))\n",
    "#windowlength is the length of the window over which the polynomial will be fit, polyorder is the order of the polynimial to be fit"
   ]
  },
  {
   "cell_type": "code",
   "execution_count": 65,
   "metadata": {},
   "outputs": [
    {
     "name": "stdout",
     "output_type": "stream",
     "text": [
      "4134\n"
     ]
    }
   ],
   "source": [
    "time1= lc[1].data['TIME'][~np.isnan(lc[1].data['PDCSAP_FLUX'])] #array[array of true false]- return array true values OR np.isfinite[array] true if number\n",
    "print(len(time1)) #checking same length\n",
    "error1 = lc[1].data['PDCSAP_FLUX_ERR'][~np.isnan(lc[1].data['PDCSAP_FLUX'])]"
   ]
  },
  {
   "cell_type": "code",
   "execution_count": 66,
   "metadata": {},
   "outputs": [
    {
     "data": {
      "text/plain": [
       "[<matplotlib.lines.Line2D at 0x7fd58e58a070>]"
      ]
     },
     "execution_count": 66,
     "metadata": {},
     "output_type": "execute_result"
    },
    {
     "data": {
      "image/png": "[encoded data removed]",
      "text/plain": [
       "<Figure size 432x288 with 1 Axes>"
      ]
     },
     "metadata": {
      "needs_background": "light"
     },
     "output_type": "display_data"
    }
   ],
   "source": [
    "plt.plot(time1, lc1_flux, ls='None', marker='.', c='grey', label='Data')\n",
    "plt.plot(time1, interp_savgol, ls='--', c='r', label='Savitzky Golay w=11,o=3')"
   ]
  },
  {
   "cell_type": "code",
   "execution_count": 67,
   "metadata": {},
   "outputs": [
    {
     "data": {
      "text/plain": [
       "[<matplotlib.lines.Line2D at 0x7fd58d9a9b80>]"
      ]
     },
     "execution_count": 67,
     "metadata": {},
     "output_type": "execute_result"
    },
    {
     "data": {
      "image/png": "[encoded data removed]",
      "text/plain": [
       "<Figure size 432x288 with 1 Axes>"
      ]
     },
     "metadata": {
      "needs_background": "light"
     },
     "output_type": "display_data"
    }
   ],
   "source": [
    "plt.plot(time1, lc1_flux/interp_savgol, ls ='none', marker = 'o', markersize =3)"
   ]
  },
  {
   "cell_type": "code",
   "execution_count": 68,
   "metadata": {},
   "outputs": [
    {
     "data": {
      "text/plain": [
       "(0.9925, 1.0025)"
      ]
     },
     "execution_count": 68,
     "metadata": {},
     "output_type": "execute_result"
    },
    {
     "data": {
      "image/png": "[encoded data removed]",
      "text/plain": [
       "<Figure size 432x288 with 1 Axes>"
      ]
     },
     "metadata": {
      "needs_background": "light"
     },
     "output_type": "display_data"
    }
   ],
   "source": [
    "plt.plot(time1, lc1_flux/interp_savgol, ls ='none', marker = 'o', markersize =3)\n",
    "plt.xlim(270,310)\n",
    "plt.ylim(0.9925,1.0025)"
   ]
  },
  {
   "cell_type": "code",
   "execution_count": 69,
   "metadata": {},
   "outputs": [
    {
     "data": {
      "text/plain": [
       "(0.9925, 1.0)"
      ]
     },
     "execution_count": 69,
     "metadata": {},
     "output_type": "execute_result"
    },
    {
     "data": {
      "image/png": "[encoded data removed]",
      "text/plain": [
       "<Figure size 432x288 with 1 Axes>"
      ]
     },
     "metadata": {
      "needs_background": "light"
     },
     "output_type": "display_data"
    }
   ],
   "source": [
    "plt.errorbar(time1, lc1_flux/interp_savgol, yerr= error1/interp_savgol, ls ='none', marker = 'o', markersize =3)\n",
    "plt.xlim(278.75,279.15)\n",
    "plt.ylim(0.9925,1.000)"
   ]
  },
  {
   "cell_type": "code",
   "execution_count": 70,
   "metadata": {},
   "outputs": [],
   "source": [
    "def strip_nan(flux, time, err):\n",
    "    \n",
    "    \"\"\"\n",
    "    function to get rid of all nan values and corresponding values for flux, flux error and time\n",
    "    returns new arrays without nans\n",
    "    \"\"\"\n",
    "    newflux = flux[~np.isnan(flux)]\n",
    "    newtime = time[~np.isnan(flux)] \n",
    "    newerr = err[~np.isnan(flux)]\n",
    "    \n",
    "    return newflux, newtime, newerr\n",
    "                           "
   ]
  },
  {
   "cell_type": "code",
   "execution_count": 71,
   "metadata": {},
   "outputs": [],
   "source": [
    "#interp_savgol = savgol_filter( flux2, window_length=201,polyorder=3)\n",
    "#plt.plot(time2, flux2, ls='None', marker='.', c='grey', label='Data')\n",
    "#plt.plot(time2, interp_savgol, ls='--', c='r', label='Savitzky Golay w=11,o=3')"
   ]
  },
  {
   "cell_type": "code",
   "execution_count": 72,
   "metadata": {},
   "outputs": [
    {
     "data": {
      "image/png": "[encoded data removed]",
      "text/plain": [
       "<Figure size 1296x360 with 1 Axes>"
      ]
     },
     "metadata": {
      "needs_background": "light"
     },
     "output_type": "display_data"
    }
   ],
   "source": [
    "plt.figure(figsize=(18,5))\n",
    "for lcfile in glob.glob('Data/Object%slc/kplr*.fits' %(mykepler)):\n",
    "    tmp = fits.open(lcfile)\n",
    "    flux, time, err = strip_nan(tmp[1].data['PDCSAP_FLUX'],tmp[1].data['TIME'],tmp[1].data['PDCSAP_FLUX_ERR'])\n",
    "    interp_savgol = savgol_filter( flux, window_length=301,polyorder=3)\n",
    "    plt.errorbar(time, flux/interp_savgol, yerr = err/interp_savgol, ls ='None')\n",
    "    plt.ylim(0.992,1.005)"
   ]
  },
  {
   "cell_type": "code",
   "execution_count": 73,
   "metadata": {},
   "outputs": [
    {
     "data": {
      "image/png": "[encoded data removed]",
      "text/plain": [
       "<Figure size 1296x360 with 1 Axes>"
      ]
     },
     "metadata": {
      "needs_background": "light"
     },
     "output_type": "display_data"
    }
   ],
   "source": [
    "yneg= (flux <0)\n",
    "normflux=[]\n",
    "normtime=[]\n",
    "normerr=[]\n",
    "\n",
    "plt.figure(figsize=(18,5))\n",
    "for lcfile in glob.glob('Data/Object%slc/kplr*.fits' %(mykepler)):\n",
    "    tmp = fits.open(lcfile)\n",
    "    flux, time, err = strip_nan(tmp[1].data['PDCSAP_FLUX'],tmp[1].data['TIME'],tmp[1].data['PDCSAP_FLUX_ERR'])\n",
    "    interp_savgol = savgol_filter(flux, window_length=301,polyorder=3)\n",
    "    normflux.extend(flux/interp_savgol)\n",
    "    normtime.extend(time)\n",
    "    normerr.extend(err/interp_savgol)\n",
    "    plt.errorbar(time, flux/interp_savgol, yerr = err/interp_savgol, ls ='None')\n",
    "    \n",
    "    "
   ]
  },
  {
   "cell_type": "code",
   "execution_count": 74,
   "metadata": {
    "scrolled": false
   },
   "outputs": [
    {
     "data": {
      "image/png": "[encoded data removed]",
      "text/plain": [
       "<Figure size 1296x432 with 1 Axes>"
      ]
     },
     "metadata": {
      "needs_background": "light"
     },
     "output_type": "display_data"
    }
   ],
   "source": [
    "#curve= np.loadtxt('normalised_curve', delimiter=',')\n",
    "import pandas as pd\n",
    "curve = pd.read_csv('normalised_curve', delimiter =',', usecols=[0,1,2], names=['time', 'flux', 'error'])\n",
    "plt.figure(figsize=(18,6))\n",
    "plt.plot(curve['time'],curve['flux'], ls='None',marker ='o', markersize=4)\n",
    "plt.xlim(100,150)\n",
    "plt.ylim(0.99,1.002)\n",
    "actper = 19.23 ## the actual period\n",
    "actper2 =38.938\n",
    "plt.axvline(actper+131.513013-6.5, c='r') ## indicating the actual period\n",
    "for i in range(80):\n",
    "    plt.axvline((actper*i+131.513013-6.5), c='r')\n",
    "for i in range(40):\n",
    "    plt.axvline((actper2*i+131.513013-34), c='b', alpha=0.5)"
   ]
  },
  {
   "cell_type": "code",
   "execution_count": 75,
   "metadata": {},
   "outputs": [
    {
     "name": "stdout",
     "output_type": "stream",
     "text": [
      "              time      flux     error\n",
      "59035   131.513013  1.000803  0.000181\n",
      "59036   131.533448  1.000554  0.000181\n",
      "59037   131.553882  1.000668  0.000181\n",
      "59038   131.574316  1.000379  0.000181\n",
      "59039   131.594751  1.000777  0.000181\n",
      "...            ...       ...       ...\n",
      "1279   1590.920200  1.000136  0.000182\n",
      "1280   1590.940635  1.000154  0.000182\n",
      "1281   1590.961069  1.000504  0.000182\n",
      "1282   1590.981504  1.000268  0.000182\n",
      "1283   1591.001938  1.000243  0.000182\n",
      "\n",
      "[64793 rows x 3 columns]\n"
     ]
    }
   ],
   "source": [
    "#sorted values in ascending time order\n",
    "curve.sort_values(by=['time'], ascending=True, inplace=True)\n",
    "print(curve)"
   ]
  },
  {
   "cell_type": "code",
   "execution_count": 76,
   "metadata": {},
   "outputs": [],
   "source": [
    "#writing normalised lightcurve into file\n",
    "np.savetxt('normalised_curve.txt',np.array([normtime,normflux,normerr]).transpose(), delimiter =',')"
   ]
  },
  {
   "cell_type": "code",
   "execution_count": 32,
   "metadata": {},
   "outputs": [],
   "source": [
    "#plot modulus division of period to find biggest time variation\n",
    "#continue until planets visibly close to each other transit wise- biggest pull?\n",
    "periods19=[144.25,163.47,201.95,221.19,240.44,278.92,298.17,317.43,336.67,355.94,375.2,394.47,413.73,433.1,452.28,471.57,490.84,510.12,529.40,548.68,\n",
    "          567.95,587.24,606.52,625.8,645.9,664.37,683.64,702.9,741.46,760.71,779.99,797.12,818.5,836.02,857,874.98,895.5,913.94,933.97,952.94,972.43,\n",
    "          991.68,1010.89,1030.1,1049.34,1087.79,1145.44,1183.88,1203.1]\n",
    "periods38=[136.3,175.5,214.33,253.31,292.26,331.18,370.07,408.93,447.77,486.58,525.37,564.18,602.96,641.75,680.56,758.24,799.25,837.76,876.25,914.73,\n",
    "          953.22,991.98,1031,1109.1,1148.19,1187.26]\n"
   ]
  },
  {
   "cell_type": "code",
   "execution_count": 33,
   "metadata": {},
   "outputs": [
    {
     "name": "stdout",
     "output_type": "stream",
     "text": [
      "[0.0, -0.010000000000001563, 0.009999999999987352, 0.01999999999999602, 0.039999999999995595, 0.06000000000001293, 0.0800000000000125, 0.11000000000000298, 0.12000000000001165, 0.15999999999999304, 0.18999999999998352, 0.23000000000002174, 0.2600000000000122, 0.40000000000001634, 0.3499999999999659, 0.40999999999998593, 0.4499999999999673, 0.49999999999999645, 0.5499999999999687, 0.599999999999941, 0.6400000000000361, 0.6999999999999993, 0.7499999999999716, 0.7999999999999439, 1.6699999999999662, 0.909999999999993, 0.9499999999999744, 0.9799999999999649, 1.0800000000000232, 1.1000000000000227, 1.149999999999995, -0.95000000000001, 1.199999999999985, -0.5100000000000335, 1.2399999999999842, -0.00999999999999801, 1.2799999999999834, 0.4900000000000375, 1.2900000000000098, 1.0300000000000367, 1.2899999999999316, 1.3099999999999312, 1.2899999999999672, 1.2699999999998894, 1.279999999999898, 1.2699999999999427, 1.2300000000000324, 1.2100000000000861, 1.1999999999998856]\n",
      "[-0.009999999999990905, 0.25199999999999534, 0.14400000000000546, 0.18599999999999284, 0.19799999999997908, 0.1799999999999926, 0.13199999999997658, 0.053999999999987836, -0.04400000000003956, -0.17200000000003968, -0.3200000000000216, -0.44800000000007856, -0.6059999999999945, -0.7540000000000333, -0.8820000000000334, -1.0779999999999745, 0.994000000000014, 0.5660000000000025, 0.11800000000000921, -0.339999999999975, -0.7879999999999683, -0.9659999999999798, -0.8840000000000003, -0.6600000000000961, -0.5079999999999529, -0.376000000000019]\n"
     ]
    }
   ],
   "source": [
    "timediff19=[]\n",
    "timediff38=[]\n",
    "for i in periods19:\n",
    "    time= (i-144.25)%(19.23)\n",
    "    if time <15:\n",
    "        timediff19.append(time)\n",
    "    else:\n",
    "        timediff19.append(time-19.23)\n",
    "\n",
    "for i in periods38:\n",
    "    time=(i-136.31)%38.938\n",
    "    if time <30:\n",
    "        timediff38.append(time)\n",
    "    else:\n",
    "        timediff38.append(time-38.938)\n",
    "    \n",
    "\n",
    "print(timediff19)\n",
    "print(timediff38)"
   ]
  },
  {
   "cell_type": "code",
   "execution_count": 34,
   "metadata": {},
   "outputs": [
    {
     "name": "stdout",
     "output_type": "stream",
     "text": [
      "49\n",
      "26\n"
     ]
    }
   ],
   "source": [
    "print(len(timediff19))\n",
    "print(len(timediff38))"
   ]
  },
  {
   "cell_type": "code",
   "execution_count": 35,
   "metadata": {},
   "outputs": [
    {
     "data": {
      "text/plain": [
       "[<matplotlib.lines.Line2D at 0x7fd58e34b0d0>]"
      ]
     },
     "execution_count": 35,
     "metadata": {},
     "output_type": "execute_result"
    },
    {
     "data": {
      "image/png": "[encoded data removed]",
      "text/plain": [
       "<Figure size 432x288 with 1 Axes>"
      ]
     },
     "metadata": {
      "needs_background": "light"
     },
     "output_type": "display_data"
    }
   ],
   "source": [
    "xrangeo=np.linspace(1,49,49)\n",
    "xrangex=np.linspace(1,26,26)\n",
    "plt.plot(xrangeo,timediff19,ls='--',marker='o')\n",
    "plt.plot(xrangex,timediff38,ls='--',marker='x')\n"
   ]
  },
  {
   "cell_type": "code",
   "execution_count": 36,
   "metadata": {},
   "outputs": [
    {
     "data": {
      "text/plain": [
       "[<matplotlib.lines.Line2D at 0x7fd58d4c7a60>]"
      ]
     },
     "execution_count": 36,
     "metadata": {},
     "output_type": "execute_result"
    },
    {
     "data": {
      "image/png": "[encoded data removed]",
      "text/plain": [
       "<Figure size 432x288 with 1 Axes>"
      ]
     },
     "metadata": {
      "needs_background": "light"
     },
     "output_type": "display_data"
    }
   ],
   "source": [
    "plt.plot(xrangeo,periods19,ls='None', marker='o')\n",
    "plt.plot(xrangex,periods38,ls='None', marker='x')"
   ]
  },
  {
   "cell_type": "code",
   "execution_count": 77,
   "metadata": {},
   "outputs": [
    {
     "data": {
      "image/png": "[encoded data removed]",
      "text/plain": [
       "<Figure size 1296x432 with 1 Axes>"
      ]
     },
     "metadata": {
      "needs_background": "light"
     },
     "output_type": "display_data"
    }
   ],
   "source": [
    "plt.figure(figsize=(18,6))\n",
    "curve = pd.read_csv('normalised_curve.txt', delimiter =',', usecols=[0,1,2], names=['time', 'flux', 'error'])\n",
    "plt.plot(curve['time'],-curve['flux'], ls='None',marker ='o', markersize=4)\n",
    "#plt.xlim(1000,1700)\n",
    "plt.ylim(-1.002,-0.992)\n",
    "actper = 19.23 ## the actual period\n",
    "actper2 =38.938\n",
    "plt.axvline(actper+131.513013-6.5, c='r') ## indicating the actual period\n",
    "for i in range(80):\n",
    "    plt.axvline((actper*i+131.513013-6.5), c='r')\n",
    "for i in range(40):\n",
    "    plt.axvline((actper2*i+131.513013-34), c='b', alpha=0.8)\n",
    "transits19=find_peaks(-curve['flux'],[0.0056-1,-0.992])\n",
    "transits38=find_peaks(-curve['flux'],[0.0046-1,1-0.005])\n",
    "transits=find_peaks(-curve['flux'])"
   ]
  },
  {
   "cell_type": "code",
   "execution_count": 38,
   "metadata": {},
   "outputs": [],
   "source": [
    "correct=np.array([1,0,0,1,0,1,0,0,1,0,1,0,0,1,0,0,1,0,0,1,0,0,1,0,0,1,0,0,1,0,0,1,0,0,1,0,0,1,0,0,1,0,0,0,1,0,0,1,0,0,1,0,0,1,0,0,1,0,0,1,0,1,0,1,0,0,0,0,0,1,0,1,0,1,0,0,1,0,0,1,0,0,1,0,0,1,0,0,1,0,0,1,0,1,0,0,1,0,0,1,0,0,1,0,0,1,0,0,1,0,0,1,0,0,1,0,0,1,0,0,1,0,0,1,0,0,1,0,0,1,0,0,1,0,0,1,0,0,1,0,1,0,0,1,0,0,1,0,0,1,0,0,1,0\n",
    "            ])\n",
    "\n"
   ]
  },
  {
   "cell_type": "code",
   "execution_count": 39,
   "metadata": {},
   "outputs": [
    {
     "name": "stdout",
     "output_type": "stream",
     "text": [
      "(array([  434,   903,   905,  1114,  1744,  1747,  2670,  3558,  4447,\n",
      "        5256,  6237,  6239,  7083,  7085,  7169,  8070,  8072,  8972,\n",
      "        8974,  9858, 10731, 12404, 12407, 12540, 14084, 14770, 15015,\n",
      "       15017, 15905, 16641, 16643, 17576, 17578, 18292, 18294, 19474,\n",
      "       20075, 20406, 21269, 21890, 22538, 23291, 23293, 23435, 24371,\n",
      "       25259, 26195, 26419, 26582, 27340, 28229, 28231, 28425, 29149,\n",
      "       30037, 30883, 30885, 31477, 31479, 31733, 31735, 32355, 33244,\n",
      "       34175, 35169, 35173, 35982, 36905, 37831, 38706, 39600, 39602,\n",
      "       40388, 40536, 40538, 41428, 41430, 42632, 43563, 43565, 44433,\n",
      "       44436, 45335, 45337, 46074, 46270, 47079, 47477, 48000, 48871,\n",
      "       48873, 49309, 49799, 49801, 50608, 51538, 52430, 53321, 53324,\n",
      "       54251, 54253, 54266, 54794, 55112, 55721, 55723, 56675, 57260,\n",
      "       57263, 58149, 58151, 58531, 59268, 59271, 59654, 60585, 61557,\n",
      "       61559, 62120, 62404, 62406, 63341, 63905, 63907, 64172]), {'peak_heights': array([-0.99370771, -0.99435579, -0.99437528, -0.99421532, -0.99399534,\n",
      "       -0.99428369, -0.99424964, -0.99336273, -0.99344196, -0.99342703,\n",
      "       -0.9933319 , -0.99317709, -0.99435978, -0.99393777, -0.99401659,\n",
      "       -0.99340512, -0.99400206, -0.99329218, -0.99433588, -0.99368472,\n",
      "       -0.99340764, -0.99401349, -0.99372763, -0.99428619, -0.99337514,\n",
      "       -0.99418505, -0.99362909, -0.99386037, -0.99319901, -0.99370836,\n",
      "       -0.99349839, -0.99434807, -0.99376066, -0.99416338, -0.9940691 ,\n",
      "       -0.99314886, -0.99386883, -0.99389213, -0.99345109, -0.99426806,\n",
      "       -0.99404347, -0.99436307, -0.99432899, -0.99347803, -0.99354123,\n",
      "       -0.99342356, -0.99388981, -0.99356573, -0.99397235, -0.9934918 ,\n",
      "       -0.99362096, -0.9939179 , -0.99431957, -0.99330687, -0.99345597,\n",
      "       -0.99366175, -0.99390759, -0.99386227, -0.99384188, -0.99366445,\n",
      "       -0.99372842, -0.99362008, -0.99344656, -0.99365723, -0.99307593,\n",
      "       -0.99306859, -0.99328154, -0.99341309, -0.99394735, -0.99378015,\n",
      "       -0.99355543, -0.99369468, -0.99397062, -0.9936525 , -0.9933551 ,\n",
      "       -0.99324786, -0.99360002, -0.99321456, -0.99383347, -0.99413747,\n",
      "       -0.99359267, -0.99349773, -0.99354753, -0.99363794, -0.99409023,\n",
      "       -0.99327939, -0.99336121, -0.9942288 , -0.99365536, -0.99382729,\n",
      "       -0.99400658, -0.99420039, -0.99397258, -0.99386392, -0.99343822,\n",
      "       -0.99346856, -0.99361674, -0.99372055, -0.99436419, -0.99381803,\n",
      "       -0.99363471, -0.99432313, -0.99387511, -0.99439981, -0.99349633,\n",
      "       -0.99335866, -0.99422149, -0.99367896, -0.99389662, -0.99327718,\n",
      "       -0.99326399, -0.99419565, -0.99428009, -0.99436117, -0.99372024,\n",
      "       -0.99393752, -0.99336962, -0.99322718, -0.99401618, -0.99412013,\n",
      "       -0.99390857, -0.99319759, -0.9938992 , -0.99402542, -0.9939373 ])})\n",
      "(array([  434,   903,   905,  1114,  1744,  1747,  2670,  2711,  3558,\n",
      "        4447,  5256,  6237,  6239,  7083,  7085,  7169,  8070,  8072,\n",
      "        8908,  8911,  8972,  8974,  9858, 10731, 10834, 12404, 12407,\n",
      "       12537, 12540, 14084, 14770, 15015, 15017, 15905, 16409, 16412,\n",
      "       16641, 16643, 17576, 17578, 18292, 18294, 19474, 20075, 20406,\n",
      "       21269, 21890, 22538, 23291, 23293, 23435, 24371, 25085, 25087,\n",
      "       25259, 26195, 26419, 26580, 26582, 27340, 28229, 28231, 28425,\n",
      "       29149, 30034, 30037, 30264, 30883, 30885, 31477, 31479, 31733,\n",
      "       31735, 32355, 33244, 33531, 34175, 35169, 35173, 35982, 36905,\n",
      "       37728, 37731, 37831, 38542, 38544, 38706, 39600, 39602, 40388,\n",
      "       40536, 40538, 41428, 41430, 42412, 42416, 42632, 43563, 43565,\n",
      "       44228, 44231, 44433, 44436, 45335, 45337, 46074, 46076, 46270,\n",
      "       46697, 46699, 47079, 47477, 47479, 48000, 48871, 48873, 49309,\n",
      "       49799, 49801, 50570, 50608, 51538, 52417, 52420, 52430, 53321,\n",
      "       53324, 54251, 54253, 54266, 54794, 55112, 55114, 55721, 55723,\n",
      "       56675, 57260, 57263, 58149, 58151, 58531, 59268, 59271, 59654,\n",
      "       60585, 61557, 61559, 62120, 62404, 62406, 63341, 63905, 63907,\n",
      "       64172]), {'peak_heights': array([-0.99370771, -0.99435579, -0.99437528, -0.99421532, -0.99399534,\n",
      "       -0.99428369, -0.99424964, -0.9944008 , -0.99336273, -0.99344196,\n",
      "       -0.99342703, -0.9933319 , -0.99317709, -0.99435978, -0.99393777,\n",
      "       -0.99401659, -0.99340512, -0.99400206, -0.99484421, -0.99501922,\n",
      "       -0.99329218, -0.99433588, -0.99368472, -0.99340764, -0.99444699,\n",
      "       -0.99401349, -0.99372763, -0.99462609, -0.99428619, -0.99337514,\n",
      "       -0.99418505, -0.99362909, -0.99386037, -0.99319901, -0.99526283,\n",
      "       -0.99455154, -0.99370836, -0.99349839, -0.99434807, -0.99376066,\n",
      "       -0.99416338, -0.9940691 , -0.99314886, -0.99386883, -0.99389213,\n",
      "       -0.99345109, -0.99426806, -0.99404347, -0.99436307, -0.99432899,\n",
      "       -0.99347803, -0.99354123, -0.99449526, -0.99441776, -0.99342356,\n",
      "       -0.99388981, -0.99356573, -0.99451934, -0.99397235, -0.9934918 ,\n",
      "       -0.99362096, -0.9939179 , -0.99431957, -0.99330687, -0.99500579,\n",
      "       -0.99345597, -0.99450596, -0.99366175, -0.99390759, -0.99386227,\n",
      "       -0.99384188, -0.99366445, -0.99372842, -0.99362008, -0.99344656,\n",
      "       -0.9946651 , -0.99365723, -0.99307593, -0.99306859, -0.99328154,\n",
      "       -0.99341309, -0.99453827, -0.9947722 , -0.99394735, -0.99458691,\n",
      "       -0.99441768, -0.99378015, -0.99355543, -0.99369468, -0.99397062,\n",
      "       -0.9936525 , -0.9933551 , -0.99324786, -0.99360002, -0.99490012,\n",
      "       -0.99517958, -0.99321456, -0.99383347, -0.99413747, -0.99522363,\n",
      "       -0.99454959, -0.99359267, -0.99349773, -0.99354753, -0.99363794,\n",
      "       -0.99409023, -0.99463559, -0.99327939, -0.99445571, -0.99472029,\n",
      "       -0.99336121, -0.9942288 , -0.99444554, -0.99365536, -0.99382729,\n",
      "       -0.99400658, -0.99420039, -0.99397258, -0.99386392, -0.99494286,\n",
      "       -0.99343822, -0.99346856, -0.99465229, -0.99493619, -0.99361674,\n",
      "       -0.99372055, -0.99436419, -0.99381803, -0.99363471, -0.99432313,\n",
      "       -0.99387511, -0.99439981, -0.99463933, -0.99349633, -0.99335866,\n",
      "       -0.99422149, -0.99367896, -0.99389662, -0.99327718, -0.99326399,\n",
      "       -0.99419565, -0.99428009, -0.99436117, -0.99372024, -0.99393752,\n",
      "       -0.99336962, -0.99322718, -0.99401618, -0.99412013, -0.99390857,\n",
      "       -0.99319759, -0.9938992 , -0.99402542, -0.9939373 ])})\n"
     ]
    }
   ],
   "source": [
    "print(transits19)\n",
    "print(transits38)"
   ]
  },
  {
   "cell_type": "code",
   "execution_count": 40,
   "metadata": {},
   "outputs": [],
   "source": [
    "def sinwave(x,amp,t,c):\n",
    "    return (amp*np.sin(x*t))+c"
   ]
  },
  {
   "cell_type": "code",
   "execution_count": 41,
   "metadata": {},
   "outputs": [],
   "source": [
    "import numpy.ma as ma"
   ]
  },
  {
   "cell_type": "code",
   "execution_count": 42,
   "metadata": {},
   "outputs": [
    {
     "data": {
      "text/plain": [
       "0.15707963267948966"
      ]
     },
     "execution_count": 42,
     "metadata": {},
     "output_type": "execute_result"
    }
   ],
   "source": [
    "np.pi/20"
   ]
  },
  {
   "cell_type": "code",
   "execution_count": 43,
   "metadata": {},
   "outputs": [
    {
     "data": {
      "text/plain": [
       "[<matplotlib.lines.Line2D at 0x7fd58f4b5f40>]"
      ]
     },
     "execution_count": 43,
     "metadata": {},
     "output_type": "execute_result"
    },
    {
     "data": {
      "image/png": "[encoded data removed]",
      "text/plain": [
       "<Figure size 432x288 with 1 Axes>"
      ]
     },
     "metadata": {
      "needs_background": "light"
     },
     "output_type": "display_data"
    }
   ],
   "source": [
    "array, magnitudes = transits19\n",
    "transittimes=[]\n",
    "for i in array:\n",
    "    time= ((curve['time'][i])-144.25)%(19.23)\n",
    "    if time <15:\n",
    "        transittimes.append(time)\n",
    "    else:\n",
    "        transittimes.append(time-19.23)\n",
    "\n",
    "\n",
    "\n",
    "transittimes=ma.masked_outside(transittimes,(-0.4),(2.5), copy=True)\n",
    "x=np.linspace(1,len(transittimes),len(transittimes))\n",
    "plt.plot(x,transittimes, ls='None',marker='o')\n",
    "\n",
    "pt,pv = curve_fit(sinwave,x,transittimes,p0=(0.75,0.15,0.5))\n",
    "plt.plot(x+5,(sinwave(x,*pt)*-1.15)+3.35)\n",
    "\n",
    "#plt.ylim(-0.5,2)"
   ]
  },
  {
   "cell_type": "code",
   "execution_count": 44,
   "metadata": {},
   "outputs": [
    {
     "name": "stdout",
     "output_type": "stream",
     "text": [
      "0.01384421140559633\n",
      "1.3696618186999099\n"
     ]
    },
    {
     "ename": "NameError",
     "evalue": "name 'pv2' is not defined",
     "output_type": "error",
     "traceback": [
      "\u001b[0;31m---------------------------------------------------------------------------\u001b[0m",
      "\u001b[0;31mNameError\u001b[0m                                 Traceback (most recent call last)",
      "\u001b[0;32m<ipython-input-44-dc43379c9745>\u001b[0m in \u001b[0;36m<module>\u001b[0;34m\u001b[0m\n\u001b[1;32m      1\u001b[0m \u001b[0mprint\u001b[0m\u001b[0;34m(\u001b[0m\u001b[0mnp\u001b[0m\u001b[0;34m.\u001b[0m\u001b[0mmin\u001b[0m\u001b[0;34m(\u001b[0m\u001b[0;34m(\u001b[0m\u001b[0msinwave\u001b[0m\u001b[0;34m(\u001b[0m\u001b[0mx\u001b[0m\u001b[0;34m,\u001b[0m\u001b[0;34m*\u001b[0m\u001b[0mpt\u001b[0m\u001b[0;34m)\u001b[0m\u001b[0;34m*\u001b[0m\u001b[0;34m-\u001b[0m\u001b[0;36m1.15\u001b[0m\u001b[0;34m)\u001b[0m\u001b[0;34m+\u001b[0m\u001b[0;36m3.35\u001b[0m\u001b[0;34m)\u001b[0m\u001b[0;34m)\u001b[0m\u001b[0;34m\u001b[0m\u001b[0;34m\u001b[0m\u001b[0m\n\u001b[1;32m      2\u001b[0m \u001b[0mprint\u001b[0m\u001b[0;34m(\u001b[0m\u001b[0mnp\u001b[0m\u001b[0;34m.\u001b[0m\u001b[0mmax\u001b[0m\u001b[0;34m(\u001b[0m\u001b[0;34m(\u001b[0m\u001b[0msinwave\u001b[0m\u001b[0;34m(\u001b[0m\u001b[0mx\u001b[0m\u001b[0;34m,\u001b[0m\u001b[0;34m*\u001b[0m\u001b[0mpt\u001b[0m\u001b[0;34m)\u001b[0m\u001b[0;34m*\u001b[0m\u001b[0;34m-\u001b[0m\u001b[0;36m1.15\u001b[0m\u001b[0;34m)\u001b[0m\u001b[0;34m+\u001b[0m\u001b[0;36m3.35\u001b[0m\u001b[0;34m)\u001b[0m\u001b[0;34m)\u001b[0m\u001b[0;34m\u001b[0m\u001b[0;34m\u001b[0m\u001b[0m\n\u001b[0;32m----> 3\u001b[0;31m \u001b[0mprint\u001b[0m\u001b[0;34m(\u001b[0m\u001b[0mnp\u001b[0m\u001b[0;34m.\u001b[0m\u001b[0msqrt\u001b[0m\u001b[0;34m(\u001b[0m\u001b[0mnp\u001b[0m\u001b[0;34m.\u001b[0m\u001b[0mdiag\u001b[0m\u001b[0;34m(\u001b[0m\u001b[0mpv2\u001b[0m\u001b[0;34m)\u001b[0m\u001b[0;34m)\u001b[0m\u001b[0;34m)\u001b[0m\u001b[0;34m\u001b[0m\u001b[0;34m\u001b[0m\u001b[0m\n\u001b[0m",
      "\u001b[0;31mNameError\u001b[0m: name 'pv2' is not defined"
     ]
    }
   ],
   "source": [
    "print(np.min((sinwave(x,*pt)*-1.15)+3.35))\n",
    "print(np.max((sinwave(x,*pt)*-1.15)+3.35))\n",
    "print(np.sqrt(np.diag(pv2)))"
   ]
  },
  {
   "cell_type": "code",
   "execution_count": null,
   "metadata": {},
   "outputs": [],
   "source": []
  },
  {
   "cell_type": "markdown",
   "metadata": {},
   "source": [
    "planet period 19 appears to only be late in transiting rather than early"
   ]
  },
  {
   "cell_type": "code",
   "execution_count": null,
   "metadata": {},
   "outputs": [],
   "source": [
    "array2, magnitudes=transits38\n",
    "transittimes2=[]\n",
    "for i in array2:\n",
    "    time= ((curve['time'][i])-136.31)%(38.938)\n",
    "    if time <30:\n",
    "        transittimes2.append(time)\n",
    "    else:\n",
    "        transittimes2.append(time-38.938)\n",
    "\n",
    "#transittimes2=transittimes2*correct\n",
    "#transittimes2 = np.ma.masked_equal(transittimes2,0)\n",
    "transittimes2= ma.masked_inside(transittimes2,-0.5,0.5)\n",
    "x2=np.linspace(1,len(transittimes2),len(transittimes2))\n",
    "plt.plot(x2,transittimes2, ls='None',marker='o', markersize='3')\n",
    "plt.plot(x,transittimes, ls='None',marker='x')\n",
    "plt.ylim(-8,8)"
   ]
  },
  {
   "cell_type": "code",
   "execution_count": null,
   "metadata": {},
   "outputs": [],
   "source": [
    "print(array2)\n"
   ]
  },
  {
   "cell_type": "code",
   "execution_count": null,
   "metadata": {},
   "outputs": [],
   "source": [
    "#removal of extremes\n",
    "transittimes2=ma.masked_outside(transittimes2,(-8),(8), copy=True)\n",
    "x2=np.linspace(1,len(transittimes2),len(transittimes2))\n",
    "plt.plot(x2,transittimes2, ls='None',marker='o')\n",
    "\n",
    "pt2,pv2 =curve_fit(sinwave,x2,transittimes2,p0=(5,0.12,1.5))\n",
    "plt.plot(x2,(sinwave(x2/1.05,*pt2)*2.1)-13)\n",
    "plt.ylim()\n",
    "print(np.sqrt(np.diag(pv2)))"
   ]
  },
  {
   "cell_type": "markdown",
   "metadata": {},
   "source": [
    "planet period 38 vaires both late and early for transit"
   ]
  },
  {
   "cell_type": "code",
   "execution_count": null,
   "metadata": {},
   "outputs": [],
   "source": [
    "print(transittimes2)"
   ]
  },
  {
   "cell_type": "code",
   "execution_count": null,
   "metadata": {},
   "outputs": [],
   "source": [
    "print(np.max((sinwave(x2/1.05,*pt2)*2.1)-13))\n",
    "print(np.min((sinwave(x2/1.05,*pt2)*2.1)-13))"
   ]
  },
  {
   "cell_type": "code",
   "execution_count": null,
   "metadata": {},
   "outputs": [],
   "source": [
    "#checking time sort worked\n",
    "curve.head()"
   ]
  },
  {
   "cell_type": "code",
   "execution_count": null,
   "metadata": {},
   "outputs": [],
   "source": []
  },
  {
   "cell_type": "code",
   "execution_count": null,
   "metadata": {},
   "outputs": [],
   "source": [
    "\n",
    "for lcfile in glob.glob('Data/Object%slc/kplr*.fits' %(mykepler)):\n",
    "    tmp = fits.open(lcfile)\n",
    "    flux, time, err = strip_nan(tmp[1].data['PDCSAP_FLUX'],tmp[1].data['TIME'],tmp[1].data['PDCSAP_FLUX_ERR'])\n",
    "    interp_savgol = savgol_filter( flux, window_length=301,polyorder=3)\n",
    "    plt.errorbar(time, flux/interp_savgol, yerr = err/interp_savgol, ls ='None')\n",
    "    plt.ylim(0.992,1.005)\n",
    "    plt.xlim(760,765)\n",
    "    \n",
    "    #m = ~((time> 764) & (time < 761 ))\n",
    "    #tnew = np.arange(761,764,0.01)\n",
    "    #newfl_sp = interpolate.BSpline(time[m], flux[m], 2, extrapolate=True)\n",
    "    #plt.plot(tnew, newfl_sp(tnew), ls='--', c='r', label='Spline')"
   ]
  },
  {
   "cell_type": "code",
   "execution_count": null,
   "metadata": {},
   "outputs": [],
   "source": []
  },
  {
   "cell_type": "code",
   "execution_count": null,
   "metadata": {},
   "outputs": [],
   "source": [
    "#periodicities\n",
    "print(curve['time'].iloc[1] - curve['time'].iloc[0])\n",
    "print(curve['time'].iloc[-1] - curve['time'].iloc[0])"
   ]
  },
  {
   "cell_type": "code",
   "execution_count": null,
   "metadata": {},
   "outputs": [],
   "source": []
  },
  {
   "cell_type": "code",
   "execution_count": null,
   "metadata": {},
   "outputs": [],
   "source": [
    "freqs = np.linspace((1/1459.5),(1/0.021), 1000) #1/longest, 1/shortest\n",
    "import scipy.signal\n",
    "from scipy.signal import lombscargle\n",
    "lomb = scipy.signal.lombscargle(curve['time'], curve['flux'], freqs, precenter=True)"
   ]
  },
  {
   "cell_type": "code",
   "execution_count": null,
   "metadata": {},
   "outputs": [],
   "source": [
    "plt.plot(freqs, lomb) #x=freq y=power"
   ]
  },
  {
   "cell_type": "code",
   "execution_count": null,
   "metadata": {},
   "outputs": [],
   "source": [
    "period =np.linspace(1,50,10000)\n",
    "lomb2 = scipy.signal.lombscargle(freqs, lomb, period, precenter=True)"
   ]
  },
  {
   "cell_type": "code",
   "execution_count": null,
   "metadata": {},
   "outputs": [],
   "source": [
    "plt.plot(period, lomb2)\n",
    "period[np.argmax(lomb2)]"
   ]
  },
  {
   "cell_type": "code",
   "execution_count": null,
   "metadata": {},
   "outputs": [],
   "source": [
    "def fold_lightcurve(time, flux, error, period):\n",
    "    \"\"\"\n",
    "    Folds the lightcurve given a period.\n",
    "    time: input time (same unit as period)\n",
    "    flux: input flux\n",
    "    error: input error\n",
    "    period: period to be folded to, needs to same unit as time (i.e. days)\n",
    "    returns: phase, folded flux, folded error\n",
    "    \"\"\"\n",
    "    #Create a pandats dataframe from the \n",
    "    data = pd.DataFrame({'time': time, 'flux': flux, 'error': error})\n",
    "    \n",
    "    #create the phase \n",
    "    data['phase'] = data.apply(lambda x: ((x.time/ period) - np.floor(x.time / period)), axis=1)\n",
    "    \n",
    "    #Creates the out phase, flux and error\n",
    "    phase_long = np.concatenate((data['phase'], data['phase'] + 1.0, data['phase'] + 2.0))\n",
    "    flux_long = np.concatenate((flux, flux, flux))\n",
    "    err_long = np.concatenate((error, error, error))\n",
    "    \n",
    "    return(phase_long, flux_long, err_long)"
   ]
  },
  {
   "cell_type": "code",
   "execution_count": null,
   "metadata": {},
   "outputs": [],
   "source": [
    "from scipy.signal import medfilt"
   ]
  },
  {
   "cell_type": "code",
   "execution_count": null,
   "metadata": {},
   "outputs": [],
   "source": [
    "def para(x,b,c,d,e,f):\n",
    "    return b*x**4 + c*x**3 + d*x**2 + e*x +f "
   ]
  },
  {
   "cell_type": "code",
   "execution_count": null,
   "metadata": {},
   "outputs": [],
   "source": [
    "xdata= np.linspace(0.585,0.6,100)\n",
    "ydata= para(xdata, 7784346.5465791 , -18455581.70325928,  16408390.95366948,\n",
    "        -6483703.55059916,    960756.74085884)"
   ]
  },
  {
   "cell_type": "raw",
   "metadata": {},
   "source": [
    "mask = (p > 0.58845) & (p <0.59735) & (p_flux < 0.9995)\n",
    "popt, pcov = curve_fit(para, p[mask], p_flux[mask], sigma=p_error[mask])\n",
    "print(popt)\n",
    "print(pcov)\n",
    "np.polyfit(p[mask],p_flux[mask],4)"
   ]
  },
  {
   "cell_type": "raw",
   "metadata": {},
   "source": [
    "p, p_flux,p_error = fold_lightcurve(curve['time'], curve['flux'], curve['error'], 19.221)\n",
    "plt.errorbar(p, p_flux, yerr=p_error, marker='o', markersize=0.5, ls='None', zorder=4, label='_nolegend_', mec='Grey')\n",
    "plt.xlabel('Phase')\n",
    "plt.ylabel('Flux')\n",
    "plt.ylim(0.992,0.996)\n",
    "plt.xlim(0.58,0.605)\n",
    "plt.plot(xdata,para(xdata,*popt), \"r--\")\n",
    "plt.axhline(y=0.99377, color=\"r\")\n",
    "plt.axvline(x=0.58845, color=\"r\")\n",
    "plt.axvline(x=0.59735, color=\"r\")\n",
    "\n",
    "masking1 = (p>0.585) & (p<0.6) & (p_flux<0.9943)\n",
    "depth1 = np.median(p_flux[masking1])\n",
    "print(depth1)\n",
    "plt.axhline(y=depth1, color='k')"
   ]
  },
  {
   "cell_type": "raw",
   "metadata": {},
   "source": [
    "pt1=np.linspace(0.58,0.58845,24)\n",
    "pt2=np.linspace(0.60,0.6,24)\n",
    "pnew=[]\n",
    "pnew.extend(pt1)\n",
    "pnew.extend(p[mask])\n",
    "pnew.extend(pt2)\n",
    "p_fluxnew=[1,1,1,1,1,1,1,1,1,1,1,1,1,1,1,1,1,1,1,1,1,1,1,1]\n",
    "p_fluxnew.extend(p_flux[mask])\n",
    "p_fluxnew.extend([1,1,1,1,1,1,1,1,1,1,1,1,1,1,1,1,1,1,1,1,1,1,1,1])"
   ]
  },
  {
   "cell_type": "raw",
   "metadata": {},
   "source": [
    "plt.errorbar(p, p_flux, yerr=p_error, marker='o', markersize=0.5, ls='None', zorder=4, label='_nolegend_', mec='Grey')\n",
    "plt.ylim(0.992,1.002)\n",
    "plt.xlim(0.585,0.603)\n",
    "plt.plot(p[mask], p_flux[mask], c='r', ls='None', marker='o')\n",
    "plt.plot(pnew, p_fluxnew, ls='None', marker='x', color=\"g\")"
   ]
  },
  {
   "cell_type": "raw",
   "metadata": {},
   "source": [
    "print(len(pnew))"
   ]
  },
  {
   "cell_type": "markdown",
   "metadata": {},
   "source": [
    "#p1, p1_flux,p1_error = fold_lightcurve(curve['time'], curve['flux'], curve['error'], 9.6105)#half period not another planet\n",
    "#plt.errorbar(p1, p1_flux, yerr=p1_error, marker='o', markersize=1, ls='None', zorder=4, label='_nolegend_', mec='Grey')\n",
    "#plt.xlim(1.16,1.2)\n",
    "#plt.ylim(0.992,1.002)\n",
    "#plt.xlabel('Phase')\n",
    "#plt.ylabel('Flux')"
   ]
  },
  {
   "cell_type": "markdown",
   "metadata": {
    "scrolled": true
   },
   "source": [
    "p2, p2_flux,p2_error = fold_lightcurve(curve['time'], curve['flux'], curve['error'], 2.7525)\n",
    "plt.errorbar(p2, p2_flux, yerr=p2_error, marker='o', markersize=2, ls='None', zorder=4, label='_nolegend_', mec='Grey')\n",
    "#plt.xlim(1.3,1.5)\n",
    "plt.ylim(0.992,1.002)\n",
    "plt.xlabel('Phase')\n",
    "plt.ylabel('Flux')"
   ]
  },
  {
   "cell_type": "markdown",
   "metadata": {},
   "source": [
    "p2, p2_flux,p2_error = fold_lightcurve(curve['time'], curve['flux'], curve['error'], 0.46999) #similar for 0.94, 0.507\n",
    "plt.errorbar(p2, p2_flux, yerr=p2_error, marker='o', markersize=2, ls='None', zorder=4, label='_nolegend_', mec='Grey')\n",
    "#plt.xlim(0.24,0.27)\n",
    "plt.ylim(0.992,1.004)\n",
    "plt.xlabel('Phase')\n",
    "plt.ylabel('Flux')"
   ]
  },
  {
   "cell_type": "code",
   "execution_count": null,
   "metadata": {},
   "outputs": [],
   "source": [
    "p3, p3_flux,p3_error = fold_lightcurve(curve['time'], curve['flux'], curve['error'], 38.938) \n",
    "plt.errorbar(p3, p3_flux, yerr=p3_error, marker='o', markersize=0.5, ls='None', zorder=4, label='_nolegend_', mec='Grey')\n",
    "plt.xlim(1.46,1.52)\n",
    "plt.ylim(0.992,0.998)\n",
    "plt.xlabel('Phase')\n",
    "plt.ylabel('Flux')\n",
    "#mask3= (p3 > 1.46) & (p3 < 1.51) & (p3_flux < 0.9993)\n",
    "#plt.plot(p3[mask3], p3_flux[mask3],marker='o', ls='None')\n",
    "\n",
    "#xlim3=np.linspace(1.46,1.51,100)\n",
    "#ylim3=para(xlim3,-26.38751599 , 128.99801285, -225.32454732,  161.45128286,  -35.98260884)\n",
    "#plt.plot(xlim3,ylim3,ls=\"--\")\n",
    "masking2 = (p3>1.46) & (p3<1.52) & (p3_flux<0.995)\n",
    "depth = np.median(p3_flux[masking2])\n",
    "print(depth)\n",
    "plt.axhline(depth, color='r')"
   ]
  },
  {
   "cell_type": "raw",
   "metadata": {},
   "source": [
    "mask381 = (curve['time']>214.1) & (curve['time']<214.6)\n",
    "time = curve['time'][mask381]\n",
    "flux= curve['flux'][mask381]\n",
    "np.polyfit(time, flux,4)"
   ]
  },
  {
   "cell_type": "raw",
   "metadata": {},
   "source": [
    "print(len(time))\n",
    "print(flux)"
   ]
  },
  {
   "cell_type": "code",
   "execution_count": null,
   "metadata": {},
   "outputs": [],
   "source": [
    "def quartic(x,beg,end,depth):\n",
    "    y=((1-depth)*(2/(end-beg))**4)*(x-(end+beg)*0.5)**4 + depth\n",
    "    return y"
   ]
  },
  {
   "cell_type": "code",
   "execution_count": null,
   "metadata": {},
   "outputs": [],
   "source": [
    "def baseline(beg1,end1,beg2,end2):\n",
    "    basemask1 = (curve['time']>beg1) & (curve['time']<end1)\n",
    "    basemask2 = (curve['time']>beg2) & (curve['time']<end2)\n",
    "    baseline = (np.mean(curve['flux'][basemask1])+np.mean(curve['flux'][basemask2]))/2\n",
    "    return baseline"
   ]
  },
  {
   "cell_type": "code",
   "execution_count": null,
   "metadata": {},
   "outputs": [],
   "source": [
    "#arrays to carry transit depths\n",
    "min38=[]\n",
    "min19=[]"
   ]
  },
  {
   "cell_type": "raw",
   "metadata": {},
   "source": [
    "def piecewise_linear(x, x0,y0, k1, k2,k3):\n",
    "    return np.piecewise(x, [x < x0, x==x0,x>x0 ], [lambda x:k1*x + y0-k1*x0, lambda x:k2*x +y0-k2*x0, lambda x:k3*x + y0-k3*x0])"
   ]
  },
  {
   "cell_type": "raw",
   "metadata": {},
   "source": [
    "popt381, pcov381 = curve_fit(piecewise_linear,curve['time'][mask381], curve['flux'][mask381], sigma=curve['error'][mask381])"
   ]
  },
  {
   "cell_type": "code",
   "execution_count": null,
   "metadata": {},
   "outputs": [],
   "source": [
    "xrange381=np.linspace(214.23,214.45,100)\n",
    "mask381 = (curve['time']>214.23) & (curve['time']<214.45)\n",
    "popt3811, pcov3811 = curve_fit(para,curve['time'][mask381], curve['flux'][mask381], sigma=curve['error'][mask381])\n",
    "popt381, pcov381 = curve_fit(quartic,curve['time'][mask381], curve['flux'][mask381], sigma=curve['error'][mask381],p0=(214.2,214.45,0.006))\n",
    "print(popt381)\n",
    "np.sqrt(np.absolute(np.diag(pcov381)))"
   ]
  },
  {
   "cell_type": "code",
   "execution_count": null,
   "metadata": {},
   "outputs": [],
   "source": [
    "curve = pd.read_csv('normalised_curve', delimiter =',', usecols=[0,1,2], names=['time', 'flux', 'error'])\n",
    "plt.figure(figsize=(18,7))\n",
    "plt.errorbar(curve['time'],curve['flux'],curve['error'], ls='None',marker ='o', markersize=3)\n",
    "plt.xlim(214.1,214.6)\n",
    "plt.ylim(0.99,1.004)\n",
    "\n",
    "plt.plot(xrange381, para(xrange381, *popt3811))\n",
    "ydata=quartic(xrange381, *popt381)\n",
    "plt.plot(xrange381,ydata)\n",
    "base381=baseline(214.1,214.23,214.45,214.6)\n",
    "plt.axhline(base381)\n",
    "\n",
    "depth=base381-np.min(ydata)\n",
    "min38.append(depth)"
   ]
  },
  {
   "cell_type": "raw",
   "metadata": {},
   "source": [
    "xdat= np.linspace(214.1,214.6,100)\n",
    "plt.plot(xdat,para(xdat,-4.45559863e+00,  3.82011633e+03, -1.22822593e+06,  1.75508154e+08,-9.40475490e+09))"
   ]
  },
  {
   "cell_type": "code",
   "execution_count": null,
   "metadata": {},
   "outputs": [],
   "source": [
    "plt.plot(curve['time'][mask381],curve['flux'][mask381]- para(curve['time'][mask381], *popt3811),ls='None', marker ='x')\n",
    "plt.plot(curve['time'][mask381],curve['flux'][mask381]- quartic(curve['time'][mask381], *popt381),ls='None', marker ='o')"
   ]
  },
  {
   "cell_type": "code",
   "execution_count": null,
   "metadata": {},
   "outputs": [],
   "source": [
    "def chisquared(y, error, ymodel):\n",
    "    return np.sum((y-ymodel)**2/error**2)\n",
    "\n",
    "chisquared(curve['flux'][mask381],curve['error'][mask381], para(curve['time'][mask381], *popt3811))/4"
   ]
  },
  {
   "cell_type": "code",
   "execution_count": null,
   "metadata": {},
   "outputs": [],
   "source": [
    "chisquared(curve['flux'][mask381],curve['error'][mask381], quartic(curve['time'][mask381], *popt381))/6"
   ]
  },
  {
   "cell_type": "code",
   "execution_count": null,
   "metadata": {},
   "outputs": [],
   "source": [
    "xrange382=np.linspace(447.65,447.87,100)\n",
    "mask382 = (curve['time']>447.65) & (curve['time']<447.87)\n",
    "popt382, pcov382 = curve_fit(quartic,curve['time'][mask382], curve['flux'][mask382], sigma=curve['error'][mask382],p0=(447.65,447.85,0.006))\n",
    "print(popt382)"
   ]
  },
  {
   "cell_type": "code",
   "execution_count": null,
   "metadata": {},
   "outputs": [],
   "source": [
    "plt.figure(figsize=(18,7))\n",
    "plt.errorbar(curve['time'],curve['flux'],curve['error'], ls='None',marker ='o', markersize=3)\n",
    "plt.xlim(447.6,448)\n",
    "plt.ylim(0.99,1.004)\n",
    "    \n",
    "ydata=quartic(xrange382, *popt382)\n",
    "plt.plot(xrange382,ydata)\n",
    "base382=baseline(447.6,447.65,447.87,448)\n",
    "plt.axhline(base382)\n",
    "\n",
    "depth=base382-np.min(ydata)\n",
    "min38.append(depth)"
   ]
  },
  {
   "cell_type": "code",
   "execution_count": null,
   "metadata": {
    "scrolled": true
   },
   "outputs": [],
   "source": [
    "xrange383=np.linspace(680.47,680.66,100)\n",
    "mask383 = (curve['time']>680.47) & (curve['time']<680.66)\n",
    "popt383, pcov383 = curve_fit(quartic,curve['time'][mask383], curve['flux'][mask383], sigma=curve['error'][mask383],p0=(680.4,680.6,0.006))\n",
    "print(popt383)"
   ]
  },
  {
   "cell_type": "code",
   "execution_count": null,
   "metadata": {},
   "outputs": [],
   "source": [
    "plt.figure(figsize=(18,7))\n",
    "plt.errorbar(curve['time'],curve['flux'],curve['error'], ls='None',marker ='o', markersize=3)\n",
    "plt.xlim(680.4,680.8)\n",
    "plt.ylim(0.99,1.004)\n",
    "\n",
    "ydata=quartic(xrange383, *popt383)\n",
    "plt.plot(xrange383,ydata)\n",
    "base383=baseline(680.4,680.47,680.66,680.8)\n",
    "plt.axhline(base383)\n",
    "\n",
    "depth=base383-np.min(ydata)\n",
    "min38.append(depth)"
   ]
  },
  {
   "cell_type": "code",
   "execution_count": null,
   "metadata": {},
   "outputs": [],
   "source": [
    "xrange384=np.linspace(1148.08,1148.28,100)\n",
    "mask384 = (curve['time']>1148.08) & (curve['time']<1148.28)\n",
    "popt384, pcov384 = curve_fit(quartic,curve['time'][mask384], curve['flux'][mask384], sigma=curve['error'][mask384],p0=(1148.08,1148.27,0.006))\n",
    "print(popt384)"
   ]
  },
  {
   "cell_type": "code",
   "execution_count": null,
   "metadata": {},
   "outputs": [],
   "source": [
    "plt.figure(figsize=(18,7))\n",
    "plt.errorbar(curve['time'],curve['flux'],curve['error'], ls='None',marker ='o', markersize=3)\n",
    "plt.xlim(1148,1148.4)\n",
    "plt.ylim(0.99,1.004)\n",
    "    \n",
    "ydata=quartic(xrange384, *popt384)\n",
    "plt.plot(xrange384,ydata)\n",
    "base384=baseline(1148,1148.1,1148.27,1148.4)\n",
    "plt.axhline(base384)\n",
    "\n",
    "depth=base384-np.min(ydata)\n",
    "min38.append(depth)"
   ]
  },
  {
   "cell_type": "code",
   "execution_count": null,
   "metadata": {},
   "outputs": [],
   "source": [
    "def simp_quartic(x,depth,center):\n",
    "    return (1-depth)*(x-center)**4+depth\n"
   ]
  },
  {
   "cell_type": "code",
   "execution_count": null,
   "metadata": {},
   "outputs": [],
   "source": [
    "print(baseline(1421.5,1421.59,1421.78,1421.9))"
   ]
  },
  {
   "cell_type": "code",
   "execution_count": null,
   "metadata": {},
   "outputs": [],
   "source": [
    "xrange385=np.linspace(1421.5,1421.9,100)\n",
    "mask385 = (curve['time']> 1421.62 ) & (curve['time'] < 1421.78)\n",
    "popt385, pcov385 = curve_fit(quartic,curve['time'][mask385], curve['flux'][mask385], sigma=curve['error'][mask385],p0=(1421.6,1421.8,0.006))\n",
    "print(*popt385)"
   ]
  },
  {
   "cell_type": "code",
   "execution_count": null,
   "metadata": {},
   "outputs": [],
   "source": [
    "plt.figure(figsize=(18,7))\n",
    "plt.errorbar(curve['time'],curve['flux'],curve['error'], ls='None',marker ='o', markersize=3)\n",
    "plt.xlim(1421.5,1421.9)\n",
    "plt.ylim(0.99,1.004)\n",
    "\n",
    "ydata=quartic(xrange385, *popt385)\n",
    "plt.plot(xrange385,ydata)\n",
    "base385=baseline(1421.5,1421.6,1421.77,1421.9)\n",
    "plt.axhline(base385)\n",
    "\n",
    "depth=base385-np.min(ydata)\n",
    "min38.append(depth)"
   ]
  },
  {
   "cell_type": "code",
   "execution_count": null,
   "metadata": {},
   "outputs": [],
   "source": [
    "xrange191=np.linspace(201.86,202.05,100)\n",
    "mask191 = (curve['time']>201.86) & (curve['time']<202.05)\n",
    "popt191, pcov191 = curve_fit(quartic,curve['time'][mask191], curve['flux'][mask191], sigma=curve['error'][mask191],p0=(201.85,202.05,0.007))\n",
    "print(popt191)"
   ]
  },
  {
   "cell_type": "code",
   "execution_count": null,
   "metadata": {},
   "outputs": [],
   "source": [
    "plt.figure(figsize=(18,7))\n",
    "plt.errorbar(curve['time'],curve['flux'],curve['error'], ls='None',marker ='o', markersize=3)\n",
    "plt.xlim(201.8,202.2)\n",
    "plt.ylim(0.99,1.002)\n",
    "    \n",
    "ydata=quartic(xrange191, *popt191)\n",
    "plt.plot(xrange191,ydata)\n",
    "base191=baseline(201.8,201.86,202.05,202.2)\n",
    "plt.axhline(base191)\n",
    "\n",
    "depth=base191-np.min(ydata)\n",
    "min19.append(depth)"
   ]
  },
  {
   "cell_type": "code",
   "execution_count": null,
   "metadata": {},
   "outputs": [],
   "source": [
    "xrange192=np.linspace(452.18,452.38,100)\n",
    "mask192 = (curve['time']>452.18) & (curve['time']<452.38)\n",
    "popt192, pcov192 = curve_fit(quartic,curve['time'][mask192], curve['flux'][mask192], sigma=curve['error'][mask192],p0=(452.1,452.4,0.007))\n",
    "print(popt192)"
   ]
  },
  {
   "cell_type": "code",
   "execution_count": null,
   "metadata": {},
   "outputs": [],
   "source": [
    "plt.figure(figsize=(18,7))\n",
    "plt.errorbar(curve['time'],curve['flux'],curve['error'], ls='None',marker ='o', markersize=3)\n",
    "plt.xlim(452.1,452.5)\n",
    "plt.ylim(0.99,1.002)\n",
    "\n",
    "ydata=quartic(xrange192, *popt192)\n",
    "plt.plot(xrange192,ydata)\n",
    "base192=baseline(452.1,452.18,452.38,452.5)\n",
    "plt.axhline(base192)\n",
    "\n",
    "depth=base192-np.min(ydata)\n",
    "min19.append(depth)"
   ]
  },
  {
   "cell_type": "code",
   "execution_count": null,
   "metadata": {},
   "outputs": [],
   "source": [
    "xrange193=np.linspace(779.88,780.08,100)\n",
    "mask193 = (curve['time']>779.88) & (curve['time']<780.08)\n",
    "popt193, pcov193 = curve_fit(quartic,curve['time'][mask193], curve['flux'][mask193], sigma=curve['error'][mask193],p0=(779.85,780,0.007))\n",
    "print(popt193)"
   ]
  },
  {
   "cell_type": "code",
   "execution_count": null,
   "metadata": {},
   "outputs": [],
   "source": [
    "plt.figure(figsize=(18,7))\n",
    "plt.errorbar(curve['time'],curve['flux'],curve['error'], ls='None',marker ='o', markersize=3)\n",
    "plt.xlim(779.8,780.2)\n",
    "plt.ylim(0.99,1.002)\n",
    "    \n",
    "ydata=quartic(xrange193, *popt193)\n",
    "plt.plot(xrange193,ydata)\n",
    "base193=baseline(779.80,779.88,780.08,780.2)\n",
    "plt.axhline(base193)\n",
    "\n",
    "depth=base193-np.min(ydata)\n",
    "min19.append(depth)"
   ]
  },
  {
   "cell_type": "code",
   "execution_count": null,
   "metadata": {},
   "outputs": [],
   "source": [
    "xrange194=np.linspace(1183.78,1183.98,100)\n",
    "mask194 = (curve['time']>1183.78) & (curve['time']<1183.98)\n",
    "popt194, pcov194 = curve_fit(quartic,curve['time'][mask194], curve['flux'][mask194], sigma=curve['error'][mask194],p0=(1183.8,1183.95,0.007))\n",
    "print(popt194)"
   ]
  },
  {
   "cell_type": "code",
   "execution_count": null,
   "metadata": {},
   "outputs": [],
   "source": [
    "plt.figure(figsize=(18,7))\n",
    "plt.errorbar(curve['time'],curve['flux'],curve['error'], ls='None',marker ='o', markersize=3)\n",
    "plt.xlim(1183.7,1184.1)\n",
    "plt.ylim(0.99,1.002)\n",
    "\n",
    "ydata=quartic(xrange194, *popt194)\n",
    "plt.plot(xrange194,ydata)\n",
    "base194=baseline(1183.7,1183.78,1183.98,1184.1)\n",
    "plt.axhline(base194)\n",
    "\n",
    "depth=base194-np.min(ydata)\n",
    "min19.append(depth)"
   ]
  },
  {
   "cell_type": "code",
   "execution_count": null,
   "metadata": {},
   "outputs": [],
   "source": [
    "xrange195=np.linspace(1452.87,1453.06,100)\n",
    "mask195 = (curve['time']>1452.87) & (curve['time']<1453.06)\n",
    "popt195, pcov195 = curve_fit(quartic,curve['time'][mask195], curve['flux'][mask195], sigma=curve['error'][mask195],p0=(1452.85,1453,0.007))\n",
    "popt1955, pcov1955 = curve_fit(para,curve['time'][mask195], curve['flux'][mask195], sigma=curve['error'][mask195])\n",
    "print(popt195)"
   ]
  },
  {
   "cell_type": "code",
   "execution_count": null,
   "metadata": {},
   "outputs": [],
   "source": [
    "plt.figure(figsize=(18,7))\n",
    "plt.errorbar(curve['time'],curve['flux'],curve['error'], ls='None',marker ='o', markersize=3)\n",
    "plt.xlim(1452.8,1453.2)\n",
    "plt.ylim(0.99,1.002)\n",
    "    \n",
    "ydata=quartic(xrange195, *popt195)\n",
    "plt.plot(xrange195,ydata)\n",
    "plt.plot(xrange195,para(xrange195,*popt1955))\n",
    "base195=baseline(1452.8,1452.87,1453.06,1453.2)\n",
    "plt.axhline(base195)\n",
    "\n",
    "depth=base195-np.min(ydata)\n",
    "min19.append(depth)"
   ]
  },
  {
   "cell_type": "code",
   "execution_count": null,
   "metadata": {},
   "outputs": [],
   "source": [
    "plt.plot(curve['time'][mask195],curve['flux'][mask195]- para(curve['time'][mask195], *popt1955),ls='None', marker ='x')\n",
    "plt.plot(curve['time'][mask195],curve['flux'][mask195]- quartic(curve['time'][mask195], *popt195),ls='None', marker ='o')"
   ]
  },
  {
   "cell_type": "code",
   "execution_count": null,
   "metadata": {},
   "outputs": [],
   "source": [
    "chisquared(curve['flux'][mask195],curve['error'][mask195], quartic(curve['time'][mask195], *popt195))/6"
   ]
  },
  {
   "cell_type": "code",
   "execution_count": null,
   "metadata": {},
   "outputs": [],
   "source": [
    "chisquared(curve['flux'][mask195],curve['error'][mask195], para(curve['time'][mask195], *popt1955))/4"
   ]
  },
  {
   "cell_type": "code",
   "execution_count": null,
   "metadata": {},
   "outputs": [],
   "source": [
    "#plt.plot(xrange195-(popt195[1]+popt195[0])*0.5,ydata195)\n",
    "plt.errorbar(curve['time'][mask191]-(popt191[1]+popt191[0])*0.5,curve['flux'][mask191],curve['error'][mask191], ls='None',marker ='o', markersize=3)\n",
    "plt.errorbar(curve['time'][mask192]-(popt192[1]+popt192[0])*0.5,curve['flux'][mask192],curve['error'][mask192], ls='None',marker ='o', markersize=3)\n",
    "plt.errorbar(curve['time'][mask193]-(popt193[1]+popt193[0])*0.5,curve['flux'][mask193],curve['error'][mask193], ls='None',marker ='o', markersize=3)\n",
    "plt.errorbar(curve['time'][mask194]-(popt194[1]+popt194[0])*0.5,curve['flux'][mask194],curve['error'][mask194], ls='None',marker ='o', markersize=3)\n",
    "plt.errorbar(curve['time'][mask195]-(popt195[1]+popt195[0])*0.5,curve['flux'][mask195],curve['error'][mask195], ls='None',marker ='o', markersize=3)\n",
    "\n",
    "times19=pd.concat([curve['time'][mask191]-(popt191[1]+popt191[0])*0.5,curve['time'][mask192]-(popt192[1]+popt192[0])*0.5,curve['time'][mask193]-\\\n",
    "                (popt193[1]+popt193[0])*0.5,curve['time'][mask194]-(popt194[1]+popt194[0])*0.5,curve['time'][mask195]-(popt195[1]+popt195[0])*0.5])\n",
    "fluxes19=pd.concat([curve['flux'][mask191],curve['flux'][mask192],curve['flux'][mask193],curve['flux'][mask194],curve['flux'][mask195]])\n",
    "errors19=pd.concat([curve['error'][mask191],curve['error'][mask192],curve['error'][mask193],curve['error'][mask194],curve['error'][mask195]])\n",
    "\n",
    "plt.errorbar(times19,fluxes19,errors19,ls='None', markersize=3)\n",
    "popt19,pcov19 = curve_fit(quartic,times19,fluxes19, sigma=errors19, p0=(-0.1,0.1,0.007))\n",
    "xrange19= np.linspace(-0.1,0.1,100)\n",
    "plt.plot(xrange19,quartic(xrange19,*popt19),color='k')\n",
    "\n",
    "baseline19= np.mean([base191,base192,base193,base194,base195])\n",
    "plt.axhline(baseline19,ls='--', color='k')\n",
    "\n",
    "print(baseline19-np.min(quartic(xrange19,*popt19)))\n",
    "print(np.sqrt(np.diag(pcov19))) #error on transit time beginning, end and depth\n"
   ]
  },
  {
   "cell_type": "code",
   "execution_count": null,
   "metadata": {},
   "outputs": [],
   "source": [
    "plt.errorbar(curve['time'][mask381]-(popt381[1]+popt381[0])*0.5,curve['flux'][mask381],curve['error'][mask381], ls='None',marker ='o', markersize=3)\n",
    "plt.errorbar(curve['time'][mask382]-(popt382[1]+popt382[0])*0.5,curve['flux'][mask382],curve['error'][mask382], ls='None',marker ='o', markersize=3)\n",
    "plt.errorbar(curve['time'][mask383]-(popt383[1]+popt383[0])*0.5,curve['flux'][mask383],curve['error'][mask383], ls='None',marker ='o', markersize=3)\n",
    "plt.errorbar(curve['time'][mask384]-(popt384[1]+popt384[0])*0.5,curve['flux'][mask384],curve['error'][mask384], ls='None',marker ='o', markersize=3)\n",
    "plt.errorbar(curve['time'][mask385]-(popt385[1]+popt385[0])*0.5,curve['flux'][mask385],curve['error'][mask385], ls='None',marker ='o', markersize=3)\n",
    "\n",
    "times38=pd.concat([curve['time'][mask381]-(popt381[1]+popt381[0])*0.5,curve['time'][mask382]-(popt382[1]+popt382[0])*0.5,curve['time'][mask383]-\\\n",
    "                (popt383[1]+popt383[0])*0.5,curve['time'][mask384]-(popt384[1]+popt384[0])*0.5,curve['time'][mask385]-(popt385[1]+popt385[0])*0.5])\n",
    "fluxes38=pd.concat([curve['flux'][mask381],curve['flux'][mask382],curve['flux'][mask383],curve['flux'][mask384],curve['flux'][mask385]])\n",
    "errors38=pd.concat([curve['error'][mask381],curve['error'][mask382],curve['error'][mask383],curve['error'][mask384],curve['error'][mask385]])\n",
    "\n",
    "plt.errorbar(times38,fluxes38,errors38,ls='None', markersize=3)\n",
    "popt38,pcov38 = curve_fit(quartic,times38,fluxes38, sigma=errors38, p0=(-0.1,0.1,0.006))\n",
    "xrange38= np.linspace(-0.1,0.1,100)\n",
    "plt.plot(xrange38,quartic(xrange38,*popt38),color='k')\n",
    "\n",
    "baseline38= np.mean([base381,base382,base383,base384,base385])\n",
    "plt.axhline(baseline38,ls='--', color='k')\n",
    "\n",
    "print(baseline38-np.min(quartic(xrange38,*popt38)))\n"
   ]
  },
  {
   "cell_type": "code",
   "execution_count": null,
   "metadata": {},
   "outputs": [],
   "source": [
    "#radius of planets\n",
    "r_star= 6.96e8 #in meters\n",
    "r_starerr= r_star*1e-2\n",
    "depth19=baseline19-np.min(quartic(xrange19,*popt19))\n",
    "#np.mean(min19)\n",
    "depth38=baseline38-np.min(quartic(xrange38,*popt38))\n",
    "#np.mean(min38)\n",
    "r19 = np.sqrt(depth19/baseline19)*r_star\n",
    "r38 = np.sqrt(depth38/baseline38)*r_star\n",
    "\n",
    "print(\"{:.7e} and {:.7e}\".format(r19/6371e3,r38/6371e3))\n",
    "print(depth19,depth38)\n",
    "#average individual r19=5.6743737e+07 r38=5.2664517e+07\n",
    "#average from stacked fit r19=5.6586062e+07 and r38=5.2337810e+07"
   ]
  },
  {
   "cell_type": "code",
   "execution_count": null,
   "metadata": {},
   "outputs": [],
   "source": [
    "r19/6371e3"
   ]
  },
  {
   "cell_type": "code",
   "execution_count": null,
   "metadata": {},
   "outputs": [],
   "source": [
    "r38/6371e3"
   ]
  },
  {
   "cell_type": "code",
   "execution_count": null,
   "metadata": {},
   "outputs": [],
   "source": [
    "5.6e7/6e6"
   ]
  },
  {
   "cell_type": "code",
   "execution_count": null,
   "metadata": {},
   "outputs": [],
   "source": [
    "#average density\n",
    "m_earth = 5.97e24\n",
    "m19 = 43.4*m_earth\n",
    "m19err_up= 1.6*m_earth\n",
    "m19err_low =2*m_earth\n",
    "m38 = 29.1*m_earth\n",
    "m38err_up = 1.1*m_earth\n",
    "m38err_low = 1.3*m_earth\n",
    "rho19 = m19/((4/3)*np.pi*r19**3)\n",
    "rho38 = m19/((4/3)*np.pi*r38**3)\n",
    "\n",
    "print(\"{:.3e} and {:.3e}\".format(rho19,rho38))"
   ]
  },
  {
   "cell_type": "code",
   "execution_count": null,
   "metadata": {},
   "outputs": [],
   "source": [
    "#semi major axis\n",
    "au= 1.496e11\n",
    "G= 6.67e-11\n",
    "m_star = 2e30\n",
    "m_starerr = m_star*1e-2\n",
    "conversion= 24*60*60\n",
    "period38 =38.938*conversion #seconds conversion\n",
    "period19= 19.230*conversion\n",
    "\n",
    "a19= ((G*m_star*period19**2)/(2*np.pi))**(1/3)\n",
    "a38= ((G*m_star*period38**2)/(2*np.pi))**(1/3)\n",
    "\n",
    "print(\"{:.3e} and {:.3e}\".format(a19/au,a38/au))"
   ]
  },
  {
   "cell_type": "code",
   "execution_count": null,
   "metadata": {},
   "outputs": [],
   "source": [
    "#period\n",
    "t19= (popt19[1]-popt19[0])*24*60*60 #seconds\n",
    "t38= (popt38[1]-popt38[0])*24*60*60\n",
    "p19 = (t19*np.pi*a19)/(r_star)\n",
    "p38 = (t38*np.pi*a38)/(r_star)\n",
    "\n",
    "print(\"{:.3e} and {:.3e}\".format(t19,t38))\n",
    "print(\"{:.3e} and {:.3e}\".format(p19/conversion,p38/conversion)) #wrong"
   ]
  },
  {
   "cell_type": "code",
   "execution_count": null,
   "metadata": {},
   "outputs": [],
   "source": [
    "2.736e+06/60/60/24"
   ]
  },
  {
   "cell_type": "code",
   "execution_count": null,
   "metadata": {},
   "outputs": [],
   "source": [
    "4.648e+06/60/60/24"
   ]
  },
  {
   "cell_type": "code",
   "execution_count": null,
   "metadata": {},
   "outputs": [],
   "source": [
    "popt19"
   ]
  },
  {
   "cell_type": "code",
   "execution_count": null,
   "metadata": {},
   "outputs": [],
   "source": [
    "#uncertainties\n",
    "#range/mean = percentage unc\n",
    "print((max(min19)-min(min19))/depth19)\n",
    "print((max(min38)-min(min38))/depth38)"
   ]
  },
  {
   "cell_type": "code",
   "execution_count": null,
   "metadata": {},
   "outputs": [],
   "source": [
    "print(np.max(flux)/np.min(interp_savgol))\n",
    "print(np.min(flux)/np.max(interp_savgol))"
   ]
  },
  {
   "cell_type": "code",
   "execution_count": null,
   "metadata": {},
   "outputs": [],
   "source": [
    "#radius error\n",
    "#max - median: would not take max flux as outliers and would not take min as transits\n",
    "err_base19=np.max([base191,base192,base193,base194,base195])-np.min([base191,base192,base193,base194,base195])\n",
    "err_base38=np.max([base381,base382,base383,base384,base385])-np.min([base381,base382,base383,base384,base385])\n",
    "begerr19, enderr19, err_depth19 = np.sqrt(np.diag(pcov19))\n",
    "begerr38, enderr38, err_depth38 = np.sqrt(np.diag(pcov38))\n",
    "\n",
    "err_rad19= np.sqrt(((err_depth19)/(2*depth19))**2 + (err_base19/(2*baseline19))**2 + (r_starerr/r_star)**2)\n",
    "err_rad38= np.sqrt(((err_depth38)/(2*depth38))**2 + (err_base38/(2*baseline38))**2 + (r_starerr/r_star)**2)\n",
    "\n",
    "print(err_rad19*r19, err_rad38*r38)"
   ]
  },
  {
   "cell_type": "code",
   "execution_count": null,
   "metadata": {},
   "outputs": [],
   "source": [
    "print(err_base19, err_base38)"
   ]
  },
  {
   "cell_type": "code",
   "execution_count": null,
   "metadata": {},
   "outputs": [],
   "source": [
    "#density error\n",
    "def density_err(err_m, m, err_rad):\n",
    "    return np.sqrt((err_m/m)**2 + (3*err_rad)**2)\n",
    "\n",
    "#upper and lower bounds of density error\n",
    "u_rho19err= density_err(m19err_up,m19,err_rad19)\n",
    "l_rho19err= density_err(m19err_low,m19,err_rad19)\n",
    "u_rho38err= density_err(m38err_up,m38,err_rad38)\n",
    "l_rho38err= density_err(m38err_low,m38,err_rad38)\n",
    "\n",
    "print(u_rho19err*rho19, l_rho19err*rho19, u_rho38err*rho38, l_rho38err*rho38)"
   ]
  },
  {
   "cell_type": "code",
   "execution_count": null,
   "metadata": {},
   "outputs": [],
   "source": [
    "#transit time error\n",
    "t19err= begerr19 + enderr19\n",
    "t38err= begerr38 +enderr38\n",
    "\n",
    "#semi major axis error (from rearranged formula)\n",
    "a19err = np.sqrt((m_starerr/m_star)**2 + (2*t19err/t19)**2 + (2*r_starerr/r_star)**2)\n",
    "a38err = np.sqrt((m_starerr/m_star)**2 + (2*t38err/t38)**2 + (2*r_starerr/r_star)**2)\n",
    "\n",
    "print(a19err*a19/au, a38err*a38/au)\n",
    "print(t19err*24*60*60,t38err*24*60*60)"
   ]
  },
  {
   "cell_type": "code",
   "execution_count": null,
   "metadata": {},
   "outputs": [],
   "source": [
    "#period error\n",
    "p19err= np.sqrt((t19err/t19)**2 + (a19err/a19)**2 + (r_starerr/r_star)**2)\n",
    "p38err= np.sqrt((t38err/t38)**2 + (a38err/a38)**2 + (r_starerr/r_star)**2)\n",
    "\n",
    "print(p19err, p38err)"
   ]
  },
  {
   "cell_type": "code",
   "execution_count": null,
   "metadata": {},
   "outputs": [],
   "source": [
    "*period19/60/60/24*period38/60/60/24"
   ]
  },
  {
   "cell_type": "markdown",
   "metadata": {},
   "source": [
    "mass vs radius\n",
    "radius and density\n",
    "orbiit vs semimajor axis - gap?"
   ]
  },
  {
   "cell_type": "markdown",
   "metadata": {},
   "source": [
    "<a id=\"sec:summary\"></a>\n",
    "<div class=\"alert alert-block alert-info\">\n",
    "\n",
    "## Summary:\n",
    "\n",
    "After completing this notebook, you should have:\n",
    "\n",
    "- identified and inspected some individual transits\n",
    "- made a plan for modelling your data"
   ]
  },
  {
   "cell_type": "code",
   "execution_count": null,
   "metadata": {},
   "outputs": [],
   "source": []
  }
 ],
 "metadata": {
  "kernelspec": {
   "display_name": "Python 3",
   "language": "python",
   "name": "python3"
  },
  "language_info": {
   "codemirror_mode": {
    "name": "ipython",
    "version": 3
   },
   "file_extension": ".py",
   "mimetype": "text/x-python",
   "name": "python",
   "nbconvert_exporter": "python",
   "pygments_lexer": "ipython3",
   "version": "3.8.3"
  }
 },
 "nbformat": 4,
 "nbformat_minor": 2
}

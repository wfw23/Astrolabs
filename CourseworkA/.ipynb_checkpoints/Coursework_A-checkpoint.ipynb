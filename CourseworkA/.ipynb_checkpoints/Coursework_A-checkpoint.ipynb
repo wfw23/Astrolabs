{
 "cells": [
  {
   "cell_type": "markdown",
   "metadata": {},
   "source": [
    "# Coursework A - Observation Planning, Data Analysis & Photometry\n",
    "\n",
    "This coursework should take you <b>approximately 1-2h to complete (after completing the Chapter 1\\& 2 Notebooks)</b> and is worth <b>20% of your grade for this unit</b>. Ensure that any calculations run correctly, i.e. make sure there are no typos in any Python code you include. Check this by running all cells before submission. Watch the short video that explains how to use this notebook.\n",
    "\n",
    "For answering the questions, you will be provided with images just like the ones in Chapter2_AperturePhotometry. These are simulated specifically for you given your Student ID. You can use the functions .get_data, .plot_x, .plot_y and .show_ima to interrogate the data. The functions that allow you to check your answer are however disabled. \n",
    "\n",
    "Answer all questions in the boxes provided.\n",
    "\n",
    "You can add additional cells to import any functions you wrote for other notebooks."
   ]
  },
  {
   "cell_type": "markdown",
   "metadata": {},
   "source": [
    "<div class=\"alert alert-block alert-danger\">\n",
    "\n",
    "Add your <b>Candidate Number (5 digits)</b> below and <b>run the cell</b>:\n",
    "\n",
    "<b>IMPORTANT: DO NOT CHANGE WHILE WORKING ON YOUR COURSEWORK, IT IS USED TO CREATE A RANDOM DATASET BASED ON YOUR ID!</b>\n",
    "\n",
    "If you are using your own module, upload this when submitting your coursework."
   ]
  },
  {
   "cell_type": "code",
   "execution_count": 1,
   "metadata": {},
   "outputs": [],
   "source": [
    "studentid = 24528"
   ]
  },
  {
   "cell_type": "code",
   "execution_count": 2,
   "metadata": {
    "tags": []
   },
   "outputs": [],
   "source": [
    "%load_ext autoreload\n",
    "from image_simulator import ImageSimulator\n",
    "import LightCurveSimulator\n",
    "%autoreload"
   ]
  },
  {
   "cell_type": "markdown",
   "metadata": {},
   "source": [
    "# Section 1 : Observations"
   ]
  },
  {
   "cell_type": "markdown",
   "metadata": {},
   "source": [
    "## Question 1\n",
    "\n",
    "Below is the lightcurve of a Kepler Planet transiting, assume that the star has the same radius as the sun. Given the signal to noise in the lightcurve, estimate the size of the smallest detectable planet? Describe how you derived your answer."
   ]
  },
  {
   "cell_type": "code",
   "execution_count": 3,
   "metadata": {},
   "outputs": [
    {
     "data": {
      "image/png": "[encoded data removed]",
      "text/plain": [
       "<Figure size 432x288 with 1 Axes>"
      ]
     },
     "metadata": {
      "needs_background": "light"
     },
     "output_type": "display_data"
    }
   ],
   "source": [
    "lc = LightCurveSimulator.ShortTransit()\n",
    "lc.add_noise(sn=500)\n",
    "lc.plotlc()"
   ]
  },
  {
   "cell_type": "code",
   "execution_count": null,
   "metadata": {},
   "outputs": [],
   "source": []
  },
  {
   "cell_type": "markdown",
   "metadata": {},
   "source": [
    "## Answer 1"
   ]
  },
  {
   "cell_type": "code",
   "execution_count": 4,
   "metadata": {},
   "outputs": [],
   "source": [
    "import numpy as np"
   ]
  },
  {
   "cell_type": "code",
   "execution_count": 6,
   "metadata": {},
   "outputs": [
    {
     "name": "stdout",
     "output_type": "stream",
     "text": [
      "92032.45935538178\n"
     ]
    }
   ],
   "source": [
    "r_sun = 6.957e8\n",
    "\n",
    "def planetrad(flux,star): #function to determine planet radius from flux change and host star radius\n",
    "    r = np.sqrt(flux)*star\n",
    "    return r\n",
    "\n",
    "print(planetrad(0.0175,r_sun)/1000) #divide by 1000 to convert to km\n",
    "    "
   ]
  },
  {
   "cell_type": "markdown",
   "metadata": {},
   "source": [
    "Observation of the lightcurve shows only one obvious 'dip' in the flux of the host star so analysis of the curve provides the size of the smallest and only detectable planet. Change in flux is proportional to the square of the radius of the planet as represented by the relation $\\frac{\\Delta F}{F}=\\frac{R_{planet}}{R_{star}}$. The flux in the transit lightcurve has been normalised such that the instrinsic flux of the star is 1 so $F=1$.\n",
    "\n",
    "The change in flux was estimated as $\\Delta F = 0.0175$ beacuse the 'lowest point' of flux in the curve appears to have a range from 0.985 and 0.980 due to the noise so a median value was used. This middle value can also be justified by the fact that the parts of the curve before and after the transit are spread between 1.005 and 0.995 flux with the true value of flux lying in the middle as 1.000 which we due to normalisation.\n",
    "\n",
    "Plugging these values into the flux-radius relation and rearanging gives a planet of 92032km in radius (rounded to the nearest km)."
   ]
  },
  {
   "cell_type": "markdown",
   "metadata": {},
   "source": [
    "## Question 2\n",
    "\n",
    "What changes would need to be made to the observations to be able to observe a planet that has an semi major axis that is 10 times smaller? Quantitatively describe your answer. Assume the stellar mass does not change and all planets transit the star centrally."
   ]
  },
  {
   "cell_type": "markdown",
   "metadata": {},
   "source": []
  },
  {
   "cell_type": "markdown",
   "metadata": {},
   "source": [
    "## Answer 2"
   ]
  },
  {
   "cell_type": "markdown",
   "metadata": {},
   "source": [
    "Use relations $a=(GM*\\frac{P^2}{2\\pi})^{1/3}$ as an estimate derived from Kepler's law and $T_{transit}= P*\\frac{R_{star}}{\\pi a}$ where a is semi-major axis, G the gravitational constant, M the star mass, P the oribital period and T$_{transit}$ the transit time. If the semi major axis is 10 times smaller and stellar mass does not change then:"
   ]
  },
  {
   "cell_type": "code",
   "execution_count": 11,
   "metadata": {},
   "outputs": [
    {
     "name": "stdout",
     "output_type": "stream",
     "text": [
      "the period scale factor is 0.0316227766016838\n"
     ]
    }
   ],
   "source": [
    "x_p=0.1**(3/2) #period scale factor\n",
    "print (\"the period scale factor is {:}\".format(x_p))"
   ]
  },
  {
   "cell_type": "markdown",
   "metadata": {},
   "source": [
    "Combining the scale factors for period and semi major axis, this gives a new transit time of:"
   ]
  },
  {
   "cell_type": "code",
   "execution_count": 9,
   "metadata": {},
   "outputs": [
    {
     "name": "stdout",
     "output_type": "stream",
     "text": [
      "0.316227766016838 of the orgiginal transit time\n"
     ]
    }
   ],
   "source": [
    "x_t= x_p*(1/0.1)\n",
    "print (\"{:} of the orgiginal transit time\".format(x_t))"
   ]
  },
  {
   "cell_type": "markdown",
   "metadata": {},
   "source": [
    "This makes sense beacuse if the semi major axis is smaller for the new planet then it must have to move faster in order to stay in orbit. Since the new transit time is approximately 0.316 times smaller than the orginal transit, more frequent obersvations should be made in order to not miss the transit. "
   ]
  },
  {
   "cell_type": "markdown",
   "metadata": {},
   "source": [
    "## Question 3\n",
    "\n",
    "Are space or ground based observatories more suitable for detecting transiting exoplanets? Explain your reasoning.\n",
    "\n",
    "## Answer 3"
   ]
  },
  {
   "cell_type": "markdown",
   "metadata": {},
   "source": [
    "To detect transiting exoplanets one must observe a star's light curve and detect a change in flux. While ground based observations are cheaper and more convenient, they are suceptible to observation disruption due to the weather, atmospheric attenuation and time of day (i.e the ability to only make observations at night). This means that data would be taken at irregular intervals and it would be easy to miss exoplanets with short transit times and/or those that transit infrequently due to having long periods. For these reasons it is more suitable to use space based observations to detect exoplanets as observations can be made throughout the wole 24hrs of the day and are not weather dependent. Observations from space are also more sensitive to the flux of stars, as some of the noise from the Earth's atmosphere is removed, so it may be easier to detect  small exoplanets that only cause very small changes in flux."
   ]
  },
  {
   "cell_type": "markdown",
   "metadata": {},
   "source": [
    "## Question 4\n",
    "\n",
    "You are planning to observe the radial velocity signature of an exoplanet. Which characteristics of the spectrograph used will be important to ensure a suitable dataset?\n",
    "\n",
    "## Answer 4"
   ]
  },
  {
   "cell_type": "markdown",
   "metadata": {},
   "source": [
    "The spectrograph used will need to be very stable and as isolated as possible from any external vibrations in order to ensure a suitable dataset. This is beacuse it becomes more difficult to actually detect the radial velocity of planets if they are slow. If the spectrograph is not physically stable enough then it may struggle to distiguish such small movements over a period of time, as the velocity signature could get lost in the noise of the signal."
   ]
  },
  {
   "cell_type": "markdown",
   "metadata": {},
   "source": [
    "# Section 2 : Data Analysis & Photometry"
   ]
  },
  {
   "cell_type": "markdown",
   "metadata": {},
   "source": [
    "## Question 1\n",
    "\n",
    "What is the flux of the following star? Give your uncertainty."
   ]
  },
  {
   "cell_type": "code",
   "execution_count": null,
   "metadata": {
    "tags": []
   },
   "outputs": [],
   "source": [
    "Q1 = ImageSimulator(student_id=studentid, assessmentQ=1, size=(100, 100))"
   ]
  },
  {
   "cell_type": "code",
   "execution_count": null,
   "metadata": {},
   "outputs": [],
   "source": []
  },
  {
   "cell_type": "markdown",
   "metadata": {},
   "source": [
    "## Answer 1:"
   ]
  },
  {
   "cell_type": "code",
   "execution_count": null,
   "metadata": {},
   "outputs": [],
   "source": []
  },
  {
   "cell_type": "markdown",
   "metadata": {},
   "source": [
    "## Question 2\n",
    "\n",
    "Justify the reason for choosing the aperture size and sky region that you used in Question 1. You may want to use figures to support your answer."
   ]
  },
  {
   "cell_type": "code",
   "execution_count": null,
   "metadata": {},
   "outputs": [],
   "source": []
  },
  {
   "cell_type": "markdown",
   "metadata": {},
   "source": [
    "## Answer 2:"
   ]
  },
  {
   "cell_type": "code",
   "execution_count": null,
   "metadata": {},
   "outputs": [],
   "source": []
  },
  {
   "cell_type": "markdown",
   "metadata": {},
   "source": [
    "## Question 3\n",
    "\n",
    "Below, you see an image displaying a star. What are the dominant sources of uncertainty in your measurement of this star?"
   ]
  },
  {
   "cell_type": "code",
   "execution_count": null,
   "metadata": {
    "tags": []
   },
   "outputs": [],
   "source": [
    "Q3 = ImageSimulator(student_id=studentid, assessmentQ=2, size=(100, 100))"
   ]
  },
  {
   "cell_type": "markdown",
   "metadata": {},
   "source": [
    "## Answer 3:"
   ]
  },
  {
   "cell_type": "code",
   "execution_count": null,
   "metadata": {},
   "outputs": [],
   "source": []
  },
  {
   "cell_type": "markdown",
   "metadata": {},
   "source": [
    "## Question 4: \n",
    "\n",
    "Below is a crowded field. If you perform aperture photometry on Star 1, is the flux of star 1 likely to be:\n",
    "\n",
    "a) measured correctly\n",
    "\n",
    "b) overestimated or\n",
    "\n",
    "c) underestimated?\n",
    "\n",
    "Explain your reasoning, justifying your response with some qualtitive arguments."
   ]
  },
  {
   "cell_type": "code",
   "execution_count": null,
   "metadata": {
    "tags": []
   },
   "outputs": [],
   "source": [
    "Q4 = ImageSimulator(student_id=studentid, assessmentQ=4, size=(100, 100))"
   ]
  },
  {
   "cell_type": "markdown",
   "metadata": {},
   "source": [
    "## Answer 4:"
   ]
  },
  {
   "cell_type": "code",
   "execution_count": null,
   "metadata": {},
   "outputs": [],
   "source": []
  },
  {
   "cell_type": "markdown",
   "metadata": {},
   "source": [
    "## Question 5\n",
    "\n",
    "The star indicated in the center of image Q5 (Star 1) has an apparent r-band magnitude of r=19.37 +/- 0.04 mag.\n",
    "\n",
    "Given this information, what is the image zeropoint? Show and document your full working."
   ]
  },
  {
   "cell_type": "code",
   "execution_count": null,
   "metadata": {
    "tags": []
   },
   "outputs": [],
   "source": [
    "Q5 = ImageSimulator(student_id=studentid, assessmentQ=5, size=(100, 100))"
   ]
  },
  {
   "cell_type": "markdown",
   "metadata": {},
   "source": [
    "## Answer 5:"
   ]
  },
  {
   "cell_type": "code",
   "execution_count": null,
   "metadata": {},
   "outputs": [],
   "source": []
  },
  {
   "cell_type": "markdown",
   "metadata": {},
   "source": [
    "## Question 6\n",
    "\n",
    "Use the zeropoint that you derived in Question 5 to determine the apparent magnitude of the second star (Star 2) in the image above. Provide the associated statistical and systematic magnitude uncertainty in your answer."
   ]
  },
  {
   "cell_type": "markdown",
   "metadata": {},
   "source": [
    "## Answer 6:"
   ]
  },
  {
   "cell_type": "code",
   "execution_count": null,
   "metadata": {},
   "outputs": [],
   "source": []
  },
  {
   "cell_type": "markdown",
   "metadata": {},
   "source": [
    "## Question 7\n",
    "\n",
    "How would the zeropoint that you measured above change if the observations were taken in better observing conditions (e.g. less air turbulance, few clouds or cirrus) ?"
   ]
  },
  {
   "cell_type": "markdown",
   "metadata": {},
   "source": [
    "## Answer 7:"
   ]
  },
  {
   "cell_type": "code",
   "execution_count": null,
   "metadata": {},
   "outputs": [],
   "source": []
  },
  {
   "cell_type": "markdown",
   "metadata": {},
   "source": [
    "## Question 8\n",
    "\n",
    "The apparent magnitude of all sources in the image below is known to an accuracy of $\\pm$10\\% from previous surveys. Which of the numbered sources in the image would be appropriate, and conversely, inappropriate for deriving the image zeropoint? Provide reasons for your response."
   ]
  },
  {
   "cell_type": "code",
   "execution_count": null,
   "metadata": {
    "tags": []
   },
   "outputs": [],
   "source": [
    "Q8 = ImageSimulator(student_id=studentid, assessmentQ=8, size=(100, 100))"
   ]
  },
  {
   "cell_type": "markdown",
   "metadata": {},
   "source": [
    "## Answer 8:"
   ]
  },
  {
   "cell_type": "code",
   "execution_count": null,
   "metadata": {},
   "outputs": [],
   "source": []
  },
  {
   "cell_type": "markdown",
   "metadata": {},
   "source": [
    "## Question 9\n",
    "\n",
    "Which of the science objectives listed below require absolute flux calibration, and which are achievable with relative flux calibration?\n",
    "\n",
    "a) Detection of an exoplanet using the transit method.\n",
    "\n",
    "b) The absolute magnitude of the host of an exoplanet.\n",
    "\n",
    "c) The temperature of the host star.\n",
    "\n",
    "Provide your reasoning in your answers."
   ]
  },
  {
   "cell_type": "markdown",
   "metadata": {},
   "source": [
    "## Answer 9:"
   ]
  },
  {
   "cell_type": "code",
   "execution_count": null,
   "metadata": {},
   "outputs": [],
   "source": []
  },
  {
   "cell_type": "markdown",
   "metadata": {},
   "source": [
    "## Question 10\n",
    "\n",
    "The two images below (Q10a, Q10b) show a star targeted for an exoplanet transit in the centre of the image. The second star is the standard star with constant flux. Which of the two images shows the planet in transit, and what's the observed fractional drop in the eclipsed star's flux?"
   ]
  },
  {
   "cell_type": "code",
   "execution_count": null,
   "metadata": {
    "tags": []
   },
   "outputs": [],
   "source": [
    "Q10a = ImageSimulator(student_id=studentid, assessmentQ=101, size=(100, 100))"
   ]
  },
  {
   "cell_type": "code",
   "execution_count": null,
   "metadata": {
    "tags": []
   },
   "outputs": [],
   "source": [
    "Q10b = ImageSimulator(student_id=studentid, assessmentQ=102, size=(100, 100))"
   ]
  },
  {
   "cell_type": "markdown",
   "metadata": {},
   "source": [
    "## Answer 10:"
   ]
  },
  {
   "cell_type": "code",
   "execution_count": null,
   "metadata": {},
   "outputs": [],
   "source": []
  },
  {
   "cell_type": "markdown",
   "metadata": {},
   "source": [
    "## Question 11\n",
    "\n",
    "What possible reasons are there for the change in flux in the constant source in the two images above?"
   ]
  },
  {
   "cell_type": "markdown",
   "metadata": {},
   "source": [
    "## Answer 11:"
   ]
  },
  {
   "cell_type": "code",
   "execution_count": null,
   "metadata": {},
   "outputs": [],
   "source": []
  }
 ],
 "metadata": {
  "kernelspec": {
   "display_name": "Python 3",
   "language": "python",
   "name": "python3"
  },
  "language_info": {
   "codemirror_mode": {
    "name": "ipython",
    "version": 3
   },
   "file_extension": ".py",
   "mimetype": "text/x-python",
   "name": "python",
   "nbconvert_exporter": "python",
   "pygments_lexer": "ipython3",
   "version": "3.8.3"
  }
 },
 "nbformat": 4,
 "nbformat_minor": 4
}

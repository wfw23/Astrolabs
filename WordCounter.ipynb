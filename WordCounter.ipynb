{
 "cells": [
  {
   "cell_type": "markdown",
   "metadata": {},
   "source": [
    "# Wordcount of Jupyter Notebooks\n",
    "\n",
    "You can use this notebook to do a wordcount on Coursework B"
   ]
  },
  {
   "cell_type": "code",
   "execution_count": 1,
   "metadata": {},
   "outputs": [],
   "source": [
    "##Import needed\n",
    "import json"
   ]
  },
  {
   "cell_type": "markdown",
   "metadata": {},
   "source": [
    "## Enter the name of the notebook you want to count here\n",
    "\n",
    "Make sure to run this if you change the filename."
   ]
  },
  {
   "cell_type": "code",
   "execution_count": 2,
   "metadata": {},
   "outputs": [],
   "source": [
    "count_nb = 'Coursework_B_Template.ipynb'"
   ]
  },
  {
   "cell_type": "code",
   "execution_count": 5,
   "metadata": {},
   "outputs": [
    {
     "name": "stdout",
     "output_type": "stream",
     "text": [
      "%%%%%%%%%%%%%%%%%%%%%%%%%%%%%%%%%%%%%%%%%%%%%%%%%%%%%%%%%%%\n",
      "\n",
      "Cell Starting with: \n",
      " ['# This is the template for coursework B - Add a suitable title'] \n",
      " has 12 words.\n",
      "\n",
      "%%%%%%%%%%%%%%%%%%%%%%%%%%%%%%%%%%%%%%%%%%%%%%%%%%%%%%%%%%%\n",
      "%%%%%%%%%%%%%%%%%%%%%%%%%%%%%%%%%%%%%%%%%%%%%%%%%%%%%%%%%%%\n",
      "\n",
      "Cell Starting with: \n",
      " ['<div class=\"alert alert-block alert-danger\">\\n', '<b>Candidate number: Your candidate number here (this is a five digit number). </b>\\n'] \n",
      " has 65 words.\n",
      "\n",
      "%%%%%%%%%%%%%%%%%%%%%%%%%%%%%%%%%%%%%%%%%%%%%%%%%%%%%%%%%%%\n",
      "%%%%%%%%%%%%%%%%%%%%%%%%%%%%%%%%%%%%%%%%%%%%%%%%%%%%%%%%%%%\n",
      "\n",
      "Cell Starting with: \n",
      " ['### Abstract: \\n', '\\n'] \n",
      " has 35 words.\n",
      "\n",
      "%%%%%%%%%%%%%%%%%%%%%%%%%%%%%%%%%%%%%%%%%%%%%%%%%%%%%%%%%%%\n",
      "%%%%%%%%%%%%%%%%%%%%%%%%%%%%%%%%%%%%%%%%%%%%%%%%%%%%%%%%%%%\n",
      "\n",
      "Cell Starting with: \n",
      " ['#### Imports: give all your imports in a box here. Any custom code you have stored in a .py file needs to be submitted with your coursework. You can freely use all code provided to you as part of this course. If you use code not encountered in the course, give a link to the online repo.'] \n",
      " has 56 words.\n",
      "\n",
      "%%%%%%%%%%%%%%%%%%%%%%%%%%%%%%%%%%%%%%%%%%%%%%%%%%%%%%%%%%%\n",
      "%%%%%%%%%%%%%%%%%%%%%%%%%%%%%%%%%%%%%%%%%%%%%%%%%%%%%%%%%%%\n",
      "\n",
      "Cell Starting with: \n",
      " ['<div class=\"alert alert-block alert-danger\">\\n', '<b>Make sure to include the relevant python files in your upload</b>'] \n",
      " has 15 words.\n",
      "\n",
      "%%%%%%%%%%%%%%%%%%%%%%%%%%%%%%%%%%%%%%%%%%%%%%%%%%%%%%%%%%%\n",
      "%%%%%%%%%%%%%%%%%%%%%%%%%%%%%%%%%%%%%%%%%%%%%%%%%%%%%%%%%%%\n",
      "\n",
      "Cell Starting with: \n",
      " ['### 1. Introduction:\\n', '\\n'] \n",
      " has 52 words.\n",
      "\n",
      "%%%%%%%%%%%%%%%%%%%%%%%%%%%%%%%%%%%%%%%%%%%%%%%%%%%%%%%%%%%\n",
      "%%%%%%%%%%%%%%%%%%%%%%%%%%%%%%%%%%%%%%%%%%%%%%%%%%%%%%%%%%%\n",
      "\n",
      "Cell Starting with: \n",
      " [\"Exoplanets can be detected via transit methods, radial velocity, direct imaging, microlensing and astrometry. Here, we are going to discuss the transit method and use it to first 'detect' planets orbiting a star system and then derive physical properties of the planets. In order to use the transit method, there are certain conditions that must be met for detection to be effective. Firstly, the system must be observed edge on such that the planets transit across the face of the star, ideally with inclination of 90 degrees or close to, so a difference in flux can be measured. It follows that the planets must not orbit too far away from the star either, and they must be of significant size in order for the flux drop to be observed. These conditions set up selection effects that influence the type of stars that may be discovered via the transit method.\\n\", '\\n'] \n",
      " has 562 words.\n",
      "\n",
      "%%%%%%%%%%%%%%%%%%%%%%%%%%%%%%%%%%%%%%%%%%%%%%%%%%%%%%%%%%%\n",
      "%%%%%%%%%%%%%%%%%%%%%%%%%%%%%%%%%%%%%%%%%%%%%%%%%%%%%%%%%%%\n",
      "\n",
      "Cell Starting with: \n",
      " ['### 2. Results - Modelling of Kepler lightcurve\\n', '\\n'] \n",
      " has 104 words.\n",
      "\n",
      "%%%%%%%%%%%%%%%%%%%%%%%%%%%%%%%%%%%%%%%%%%%%%%%%%%%%%%%%%%%\n",
      "%%%%%%%%%%%%%%%%%%%%%%%%%%%%%%%%%%%%%%%%%%%%%%%%%%%%%%%%%%%\n",
      "\n",
      "Cell Starting with: \n",
      " ['In order to find the number of planets in this system and their respective periods, we first make use of a lomb-scargle periodogram with the normalised lightcurve data. This is done twice so that we are left with only the most prominent peaks that correspond to the periods of the orbiting planets. One can then fold the normalised lightcurve on these periods (adjusting period as necessary to get better folds) to obtain several superimposed transits of the same planet. From the periodogram there are two main peaks at 19.25 and 38.45, although if plotted over a larger range then several more peaks are visible but these correspond to period multiples and are not different planets. While it may seem like the ~38day period could just be a multiple of the ~19day period, folding the lightcurve at 38.45 reveals that they are infact different planets but in MMR. This also explains why the folded lightcurve does not produce a clean transit; the periods of the planets suffer from significant TTVs, meaning it is impossible to get a meaningful transit curve in this way. From here on out, I will refer to the planet with a 19 day period as \"Courteener\" (from \\'Not Nineteen Forever\\' by The Courteeners) and the planet with a 38 day period as \"Vinyl Theatre\" (from \\'30 Seconds\\' by Vinyl Theatre).\\n', '\\n'] \n",
      " has 519 words.\n",
      "\n",
      "%%%%%%%%%%%%%%%%%%%%%%%%%%%%%%%%%%%%%%%%%%%%%%%%%%%%%%%%%%%\n",
      "%%%%%%%%%%%%%%%%%%%%%%%%%%%%%%%%%%%%%%%%%%%%%%%%%%%%%%%%%%%\n",
      "\n",
      "Cell Starting with: \n",
      " ['### 3. Discussion\\n', '\\n'] \n",
      " has 86 words.\n",
      "\n",
      "%%%%%%%%%%%%%%%%%%%%%%%%%%%%%%%%%%%%%%%%%%%%%%%%%%%%%%%%%%%\n",
      "%%%%%%%%%%%%%%%%%%%%%%%%%%%%%%%%%%%%%%%%%%%%%%%%%%%%%%%%%%%\n",
      "\n",
      "Cell Starting with: \n",
      " ['### 4. Summary\\n', '\\n'] \n",
      " has 23 words.\n",
      "\n",
      "%%%%%%%%%%%%%%%%%%%%%%%%%%%%%%%%%%%%%%%%%%%%%%%%%%%%%%%%%%%\n",
      "%%%%%%%%%%%%%%%%%%%%%%%%%%%%%%%%%%%%%%%%%%%%%%%%%%%%%%%%%%%\n",
      "\n",
      "Cell Starting with: \n",
      " ['### References:\\n', '\\n'] \n",
      " has 82 words.\n",
      "\n",
      "%%%%%%%%%%%%%%%%%%%%%%%%%%%%%%%%%%%%%%%%%%%%%%%%%%%%%%%%%%%\n",
      "%%%%%%%%%%%%%%%%%%%%%%%%%%%%%%%%%%%%%%%%%%%%%%%%%%%%%%%%%%%\n",
      "\n",
      "Overall word count in markdown cells is 1611\n",
      "\n",
      "%%%%%%%%%%%%%%%%%%%%%%%%%%%%%%%%%%%%%%%%%%%%%%%%%%%%%%%%%%%\n",
      "\n",
      "Done counting words in notebook Coursework_B_Template.ipynb\n"
     ]
    }
   ],
   "source": [
    "## Loading the data\n",
    "with open(count_nb) as json_file:\n",
    "    data = json.load(json_file)\n",
    "\n",
    "#setting the starting wordcount to 0\n",
    "wordCount = 0\n",
    "for each in data['cells']: # Looping over cells\n",
    "    cellType = each['cell_type']\n",
    "    if cellType == \"markdown\": # checking if the cell is markdown\n",
    "        content = each['source']\n",
    "        cell_wc = 0 ## starting the cell wordcount\n",
    "        for line in content: ## looping over lines in cell\n",
    "            temp = [word for word in line.split() if \"#\" not in word] # we might need to filter for more markdown keywords here\n",
    "            wordCount = wordCount + len(temp) ## increasing overall wordcount\n",
    "            cell_wc += len(temp) ## increasing cell wordcount\n",
    "        ## Printing info\n",
    "        print('%%%%%%%%%%%%%%%%%%%%%%%%%%%%%%%%%%%%%%%%%%%%%%%%%%%%%%%%%%%')\n",
    "        print('')\n",
    "        print(\"Cell Starting with: \\n %s \\n has %i words.\" %(content[0:2], cell_wc))\n",
    "        print('')\n",
    "        print('%%%%%%%%%%%%%%%%%%%%%%%%%%%%%%%%%%%%%%%%%%%%%%%%%%%%%%%%%%%')\n",
    "print('%%%%%%%%%%%%%%%%%%%%%%%%%%%%%%%%%%%%%%%%%%%%%%%%%%%%%%%%%%%')\n",
    "print('')\n",
    "print(\"Overall word count in markdown cells is \" + str(wordCount))\n",
    "print('')\n",
    "print('%%%%%%%%%%%%%%%%%%%%%%%%%%%%%%%%%%%%%%%%%%%%%%%%%%%%%%%%%%%')\n",
    "print('')\n",
    "print('Done counting words in notebook %s' %count_nb)"
   ]
  },
  {
   "cell_type": "code",
   "execution_count": null,
   "metadata": {},
   "outputs": [],
   "source": []
  }
 ],
 "metadata": {
  "kernelspec": {
   "display_name": "Python 3",
   "language": "python",
   "name": "python3"
  },
  "language_info": {
   "codemirror_mode": {
    "name": "ipython",
    "version": 3
   },
   "file_extension": ".py",
   "mimetype": "text/x-python",
   "name": "python",
   "nbconvert_exporter": "python",
   "pygments_lexer": "ipython3",
   "version": "3.8.3"
  }
 },
 "nbformat": 4,
 "nbformat_minor": 5
}

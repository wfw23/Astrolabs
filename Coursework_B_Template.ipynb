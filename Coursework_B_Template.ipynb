{
 "cells": [
  {
   "cell_type": "markdown",
   "metadata": {},
   "source": [
    "# This is the template for coursework B - Add a suitable title"
   ]
  },
  {
   "cell_type": "markdown",
   "metadata": {},
   "source": [
    "<div class=\"alert alert-block alert-danger\">\n",
    "<b>Candidate number: Your candidate number here (this is a five digit number). </b>\n",
    "\n",
    "- This Coursework contributes <b>80%</b> to your overall unit mark.\n",
    "\n",
    "- Will be marked anonymously.\n",
    "\n",
    "- Keep to word limits (+- a few words).\n",
    "\n",
    "- You can use the WordCounter notebook to check your word count.\n",
    "\n",
    "- Code & figure captions do not count towards word limits.\n",
    "</div>"
   ]
  },
  {
   "cell_type": "markdown",
   "metadata": {},
   "source": [
    "### Abstract: \n",
    "\n",
    "Here, give an overview of your work, make sure to describe the science background, methods, results as well as comparisons to literature data. Keep this short.\n",
    "<div class=\"alert alert-block alert-danger\">\n",
    "    \n",
    "<b>word limit 250 words.</b>"
   ]
  },
  {
   "cell_type": "markdown",
   "metadata": {},
   "source": [
    "#### Imports: give all your imports in a box here. Any custom code you have stored in a .py file needs to be submitted with your coursework. You can freely use all code provided to you as part of this course. If you use code not encountered in the course, give a link to the online repo."
   ]
  },
  {
   "cell_type": "code",
   "execution_count": null,
   "metadata": {},
   "outputs": [],
   "source": [
    "import numpy\n",
    "#.... and so on....\n",
    "import myexostuff"
   ]
  },
  {
   "cell_type": "markdown",
   "metadata": {},
   "source": [
    "<div class=\"alert alert-block alert-danger\">\n",
    "<b>Make sure to include the relevant python files in your upload</b>"
   ]
  },
  {
   "cell_type": "markdown",
   "metadata": {},
   "source": [
    "### 1. Introduction:\n",
    "\n",
    "Give an introduction to your coursework. This should be a short description of exoplanets as well as a description of background relevant to your Discussion.\n",
    "\n",
    "Your introduction should be understandable to a student having taken Intro to astro and Planets & Exoplanets. \n",
    "\n",
    "<div class=\"alert alert-block alert-danger\">\n",
    "<b>Word limit: 600 words</b>"
   ]
  },
  {
   "cell_type": "markdown",
   "metadata": {},
   "source": [
    "### 2. Results - Modelling of Kepler lightcurve\n",
    "\n",
    "$\\bullet$ describe fitting of transit depths and present results with errors\n",
    "\n",
    "$\\bullet$ describe periodogram and identification of periodic features in lightcurves\n",
    "\n",
    "$\\bullet$ describe motivation for any additional fitting you have done\n",
    "\n",
    "$\\bullet$ include code for all modelling in attached code or inline, describe limitations and assumptions made\n",
    "\n",
    "<div class=\"alert alert-block alert-danger\">\n",
    "    \n",
    "<b>Keep this concise: word limit 750 words</b>"
   ]
  },
  {
   "cell_type": "markdown",
   "metadata": {},
   "source": [
    "### 3. Discussion\n",
    "\n",
    "$\\bullet$ present comparison of your results with data, including statistical analyis and clear figures. \n",
    "\n",
    "$\\bullet$ limit yourself in the presentation of results, focus on fewer results that are described well, rather than presenting many figures without clear context\n",
    "\n",
    "$\\bullet$ Include a short (~ 200 word) description of a follow-up observations that would address an open question in your report.\n",
    "\n",
    "\n",
    "<div class=\"alert alert-block alert-danger\">\n",
    "<b>Word limit: 2000 words</b>"
   ]
  },
  {
   "cell_type": "markdown",
   "metadata": {},
   "source": [
    "### 4. Summary\n",
    "\n",
    "$\\bullet$ summarize your results. This can be done in text or bullet points.\n",
    "\n",
    "<div class=\"alert alert-block alert-danger\">\n",
    "<b>Word limit: 300 words</b>"
   ]
  },
  {
   "cell_type": "markdown",
   "metadata": {},
   "source": [
    "### References:\n",
    "\n",
    "Give all references here. Use Astronomy style references, e.g.\n",
    "- Miller & Jones, 2018, ApJ, 00, 000 (yr, journal,vol,pg)\n",
    "- Smith et al. 2019, MNRAS, 00, 000\n",
    "- Willow 1972, AJ, 00, 000\n",
    "\n",
    "And cite these in the text as \"Miller & Jones (2018) showed that all exoplanets are made of cheese, however, Smith et al. (2019) showed Trappist1b is made of chocolate, as previously suggested in the literature (Willow 1972).\" \n",
    "\n",
    "\n",
    "### Acknowledgments\n",
    "\n",
    "Acknowlegde the use of any software or datasets here."
   ]
  },
  {
   "cell_type": "code",
   "execution_count": null,
   "metadata": {},
   "outputs": [],
   "source": []
  },
  {
   "cell_type": "code",
   "execution_count": null,
   "metadata": {},
   "outputs": [],
   "source": []
  }
 ],
 "metadata": {
  "kernelspec": {
   "display_name": "Python 3",
   "language": "python",
   "name": "python3"
  },
  "language_info": {
   "codemirror_mode": {
    "name": "ipython",
    "version": 3
   },
   "file_extension": ".py",
   "mimetype": "text/x-python",
   "name": "python",
   "nbconvert_exporter": "python",
   "pygments_lexer": "ipython3",
   "version": "3.8.3"
  }
 },
 "nbformat": 4,
 "nbformat_minor": 2
}
